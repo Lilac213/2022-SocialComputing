{
 "cells": [
  {
   "cell_type": "code",
   "execution_count": 2,
   "metadata": {},
   "outputs": [],
   "source": [
    "import threading\n",
    "\n",
    "from odps import ODPS\n",
    "from odps import options\n",
    "\n",
    "\n",
    "def download(pt):\n",
    "    ACCESS_ID = 'LTAI5t9uwJrh5eJ7Q5E37D1s'\n",
    "    SECRET_ACCESS_KEY = 'NCFHOAnvqfnTrpypgR4b3cNawP8fnB'\n",
    "    ODPS_PROJECT = 'OpenDigger_prod_dev'\n",
    "    ODPS_ENDPOINT = 'http://service.cn-shanghai.maxcompute.aliyun.com/api'\n",
    "    # 创建odps实例\n",
    "    o = ODPS(ACCESS_ID, SECRET_ACCESS_KEY,\n",
    "             project=ODPS_PROJECT, endpoint=ODPS_ENDPOINT)\n",
    "    options.tunnel.limit_instance_tunnel = False\n",
    "    sql = \"\"\"\n",
    "    SELECT DISTINCT actor_id, repo_id, repo_stargazers_count, repo_forks_count\n",
    "    FROM ods_github_log\n",
    "    WHERE  pt=%s\n",
    "    AND type='PullRequestEvent'\n",
    "    \"\"\" % pt\n",
    "    filename = '.log%s.csv' % pt\n",
    "    with open(filename, 'w') as f:\n",
    "        f.write('actor_id,repo_id,repo_stargazers_count,repo_forks_count\\n')\n",
    "        with o.execute_sql(sql).open_reader() as reader:\n",
    "            for i in reader:\n",
    "                line = (\n",
    "                        str(i.actor_id) + ','\n",
    "                        + str(i.repo_id) + ','\n",
    "                        + str(i.repo_stargazers_count) + ','\n",
    "                        + str(i.repo_forks_count) + ',' + '\\n')\n",
    "                f.write(line)\n",
    "\n",
    "\n",
    "class DownloadThread(threading.Thread):\n",
    "    def __init__(self, pt):\n",
    "        super(DownloadThread, self).__init__()\n",
    "        self.pt = pt\n",
    "\n",
    "    def run(self):\n",
    "        download(pt)\n",
    "\n",
    "\n",
    "if __name__ == '__main__':\n",
    "    threads = []\n",
    "    ptList = ['20210101', '20210201', '20210301', '20210401', '20210501', '20210601',\n",
    "              '20210701', '20210801', '20210901', '20211001', '20211101', '20211201']\n",
    "    for pt in ptList:\n",
    "        thread = DownloadThread(pt)\n",
    "        thread.start()\n",
    "        threads.append(thread)\n",
    "    for t in threads:\n",
    "        t.join()"
   ]
  },
  {
   "cell_type": "code",
   "execution_count": 2,
   "metadata": {},
   "outputs": [
    {
     "name": "stdout",
     "output_type": "stream",
     "text": [
      "odps.Schema {\n",
      "  login                     string        \n",
      "  created_at                date          \n",
      "  database_id               int64         \n",
      "  location                  string        \n",
      "  company                   string        \n",
      "  bio                       string        \n",
      "  is_employee               boolean       \n",
      "  email                     string        \n",
      "  infoname                  string        \n",
      "  followers                 string        \n",
      "  following                 string        \n",
      "  time                      date          \n",
      "  name                      string        \n",
      "  lastupdatedat             date          \n",
      "  nextupdateat              date          \n",
      "}\n",
      "\n",
      "odps.Schema {\n",
      "  actor_id              int64           \n",
      "  actor_login           string          \n",
      "  type                  string          \n",
      "  created_at            datetime        \n",
      "}\n",
      "\n"
     ]
    }
   ],
   "source": [
    "from select import select\n",
    "from odps import ODPS\n",
    "from odps import options\n",
    "from odps.df import DataFrame\n",
    "import pandas as pd\n",
    "import numpy as np\n",
    "import re\n",
    "import math\n",
    "from collections import Counter\n",
    "from collections import defaultdict\n",
    "\n",
    "ACCESS_ID = 'LTAI5t9uwJrh5eJ7Q5E37D1s'\n",
    "SECRET_ACCESS_KEY = 'NCFHOAnvqfnTrpypgR4b3cNawP8fnB'\n",
    "ODPS_PROJECT = 'OpenDigger_prod_dev'\n",
    "ODPS_ENDPOINT = 'http://service.cn-shanghai.maxcompute.aliyun.com/api'\n",
    "# ACCESS_ID = 'LTAI5tSjrYp6JDW2bbiTdegU'\n",
    "# SECRET_ACCESS_KEY = 'OE6JbSqOZUey5fzr9Wg6fuYYKvslZx'\n",
    "# 创建odps实例\n",
    "o = ODPS(ACCESS_ID, SECRET_ACCESS_KEY,\n",
    "         project=ODPS_PROJECT, endpoint=ODPS_ENDPOINT)\n",
    "options.tunnel.limit_instance_tunnel = False\n",
    "# options.read_timeout = 3600000\n",
    "\n",
    "users = DataFrame(o.get_table('ods_github_users'))\n",
    "print(users.dtypes)\n",
    "\n",
    "github_repo = DataFrame(o.get_table('dim_github_actor'))\n",
    "print(github_repo.dtypes)"
   ]
  },
  {
   "cell_type": "code",
   "execution_count": 2,
   "metadata": {},
   "outputs": [
    {
     "data": {
      "application/vnd.jupyter.widget-view+json": {
       "model_id": "94a8db8ec1ce4fe1aca6086d0b560337",
       "version_major": 2,
       "version_minor": 0
      },
      "text/plain": [
       "TransientProgressBar(value=0.0)"
      ]
     },
     "metadata": {},
     "output_type": "display_data"
    },
    {
     "data": {
      "application/vnd.jupyter.widget-view+json": {
       "model_id": "6f9dd7f3c2234205b2d6ede405b0094d",
       "version_major": 2,
       "version_minor": 0
      },
      "text/plain": [
       "InstancesProgress()"
      ]
     },
     "metadata": {},
     "output_type": "display_data"
    },
    {
     "data": {
      "application/vnd.jupyter.widget-view+json": {
       "model_id": "a8ecf87cb9bf445f975c4fec2c8948f3",
       "version_major": 2,
       "version_minor": 0
      },
      "text/plain": [
       "HTMLNotifier()"
      ]
     },
     "metadata": {},
     "output_type": "display_data"
    },
    {
     "name": "stdout",
     "output_type": "stream",
     "text": [
      "   repo_id                     repo_name  org_id org_login repo_description  \\\n",
      "0    20798  svenfuchs/reference_tracking       0                              \n",
      "1    22698                averyj/ramazon       0                              \n",
      "2    25247               kings/alonetone       0                              \n",
      "\n",
      "   repo_size  repo_stargazers_count  repo_forks_count repo_language  \\\n",
      "0          0                      0                 0                 \n",
      "1          0                      0                 0                 \n",
      "2          0                      0                 0                 \n",
      "\n",
      "   repo_has_issues  repo_has_projects  repo_has_downloads  repo_has_wiki  \\\n",
      "0                0                  0                   0              0   \n",
      "1                0                  0                   0              0   \n",
      "2                0                  0                   0              0   \n",
      "\n",
      "   repo_has_pages repo_license repo_default_branch repo_created_at  \\\n",
      "0               0                                             None   \n",
      "1               0                                             None   \n",
      "2               0                                             None   \n",
      "\n",
      "  repo_updated_at repo_pushed_at  repo_has_pr  \n",
      "0            None           None            0  \n",
      "1            None           None            0  \n",
      "2            None           None            0  \n"
     ]
    }
   ],
   "source": [
    "print(github_repo.head(3))"
   ]
  },
  {
   "cell_type": "code",
   "execution_count": 16,
   "metadata": {},
   "outputs": [
    {
     "ename": "ODPSError",
     "evalue": "ODPS-0130071: InstanceId: 2022051106241096g9q4os2t2\nODPS-0130071:[0,0] Semantic analysis exception - physical plan generation failed: java.lang.RuntimeException: Table(opendigger_prod_dev,ods_github_log) is full scan with all partitions, please specify partition predicates.\n\n",
     "output_type": "error",
     "traceback": [
      "\u001b[1;31m---------------------------------------------------------------------------\u001b[0m",
      "\u001b[1;31mODPSError\u001b[0m                                 Traceback (most recent call last)",
      "\u001b[1;32m<ipython-input-16-09dea76c0d18>\u001b[0m in \u001b[0;36m<module>\u001b[1;34m\u001b[0m\n\u001b[0;32m     12\u001b[0m         \u001b[0mdata\u001b[0m \u001b[1;33m=\u001b[0m \u001b[0mpd\u001b[0m\u001b[1;33m.\u001b[0m\u001b[0mDataFrame\u001b[0m\u001b[1;33m.\u001b[0m\u001b[0mfrom_dict\u001b[0m\u001b[1;33m(\u001b[0m\u001b[0md\u001b[0m\u001b[1;33m,\u001b[0m\u001b[0morient\u001b[0m\u001b[1;33m=\u001b[0m\u001b[1;34m'index'\u001b[0m\u001b[1;33m)\u001b[0m\u001b[1;33m.\u001b[0m\u001b[0mT\u001b[0m\u001b[1;33m\u001b[0m\u001b[1;33m\u001b[0m\u001b[0m\n\u001b[0;32m     13\u001b[0m     \u001b[1;32mreturn\u001b[0m \u001b[0mdata\u001b[0m\u001b[1;33m\u001b[0m\u001b[1;33m\u001b[0m\u001b[0m\n\u001b[1;32m---> 14\u001b[1;33m \u001b[0mrdata\u001b[0m \u001b[1;33m=\u001b[0m  \u001b[0mexe_sql\u001b[0m\u001b[1;33m(\u001b[0m\u001b[1;34m\"SELECT actor_id, repo_id, type, created_at FROM ods_github_log;\"\u001b[0m\u001b[1;33m)\u001b[0m\u001b[1;33m\u001b[0m\u001b[1;33m\u001b[0m\u001b[0m\n\u001b[0m",
      "\u001b[1;32m<ipython-input-16-09dea76c0d18>\u001b[0m in \u001b[0;36mexe_sql\u001b[1;34m(sql)\u001b[0m\n\u001b[0;32m      1\u001b[0m \u001b[1;32mdef\u001b[0m \u001b[0mexe_sql\u001b[0m\u001b[1;33m(\u001b[0m\u001b[0msql\u001b[0m\u001b[1;33m)\u001b[0m\u001b[1;33m:\u001b[0m\u001b[1;33m\u001b[0m\u001b[1;33m\u001b[0m\u001b[0m\n\u001b[0;32m      2\u001b[0m     \u001b[0mdata\u001b[0m \u001b[1;33m=\u001b[0m \u001b[1;33m[\u001b[0m\u001b[1;33m]\u001b[0m\u001b[1;33m\u001b[0m\u001b[1;33m\u001b[0m\u001b[0m\n\u001b[1;32m----> 3\u001b[1;33m     \u001b[1;32mwith\u001b[0m \u001b[0mo\u001b[0m\u001b[1;33m.\u001b[0m\u001b[0mexecute_sql\u001b[0m\u001b[1;33m(\u001b[0m\u001b[0msql\u001b[0m\u001b[1;33m)\u001b[0m\u001b[1;33m.\u001b[0m\u001b[0mopen_reader\u001b[0m\u001b[1;33m(\u001b[0m\u001b[1;33m)\u001b[0m \u001b[1;32mas\u001b[0m \u001b[0mreader\u001b[0m\u001b[1;33m:\u001b[0m\u001b[1;33m\u001b[0m\u001b[1;33m\u001b[0m\u001b[0m\n\u001b[0m\u001b[0;32m      4\u001b[0m         \u001b[0mcnt\u001b[0m \u001b[1;33m=\u001b[0m \u001b[1;36m0\u001b[0m\u001b[1;33m\u001b[0m\u001b[1;33m\u001b[0m\u001b[0m\n\u001b[0;32m      5\u001b[0m         \u001b[0md\u001b[0m \u001b[1;33m=\u001b[0m \u001b[0mdefaultdict\u001b[0m\u001b[1;33m(\u001b[0m\u001b[0mlist\u001b[0m\u001b[1;33m)\u001b[0m\u001b[1;33m\u001b[0m\u001b[1;33m\u001b[0m\u001b[0m\n",
      "\u001b[1;32mC:\\ProgramData\\Anaconda3\\lib\\site-packages\\odps\\core.py\u001b[0m in \u001b[0;36mexecute_sql\u001b[1;34m(self, sql, project, priority, running_cluster, hints, **kwargs)\u001b[0m\n\u001b[0;32m    791\u001b[0m             hints=hints, **kwargs)\n\u001b[0;32m    792\u001b[0m         \u001b[1;32mif\u001b[0m \u001b[1;32mnot\u001b[0m \u001b[0masync_\u001b[0m\u001b[1;33m:\u001b[0m\u001b[1;33m\u001b[0m\u001b[1;33m\u001b[0m\u001b[0m\n\u001b[1;32m--> 793\u001b[1;33m             \u001b[0minst\u001b[0m\u001b[1;33m.\u001b[0m\u001b[0mwait_for_success\u001b[0m\u001b[1;33m(\u001b[0m\u001b[1;33m)\u001b[0m\u001b[1;33m\u001b[0m\u001b[1;33m\u001b[0m\u001b[0m\n\u001b[0m\u001b[0;32m    794\u001b[0m \u001b[1;33m\u001b[0m\u001b[0m\n\u001b[0;32m    795\u001b[0m         \u001b[1;32mreturn\u001b[0m \u001b[0minst\u001b[0m\u001b[1;33m\u001b[0m\u001b[1;33m\u001b[0m\u001b[0m\n",
      "\u001b[1;32mC:\\ProgramData\\Anaconda3\\lib\\site-packages\\odps\\models\\instance.py\u001b[0m in \u001b[0;36mwait_for_success\u001b[1;34m(self, interval)\u001b[0m\n\u001b[0;32m    569\u001b[0m                 \u001b[1;32mif\u001b[0m \u001b[0mexc\u001b[0m\u001b[1;33m:\u001b[0m\u001b[1;33m\u001b[0m\u001b[1;33m\u001b[0m\u001b[0m\n\u001b[0;32m    570\u001b[0m                     \u001b[0mexc\u001b[0m\u001b[1;33m.\u001b[0m\u001b[0minstance_id\u001b[0m \u001b[1;33m=\u001b[0m \u001b[0mself\u001b[0m\u001b[1;33m.\u001b[0m\u001b[0mid\u001b[0m\u001b[1;33m\u001b[0m\u001b[1;33m\u001b[0m\u001b[0m\n\u001b[1;32m--> 571\u001b[1;33m                     \u001b[1;32mraise\u001b[0m \u001b[0mexc\u001b[0m\u001b[1;33m\u001b[0m\u001b[1;33m\u001b[0m\u001b[0m\n\u001b[0m\u001b[0;32m    572\u001b[0m \u001b[1;33m\u001b[0m\u001b[0m\n\u001b[0;32m    573\u001b[0m     \u001b[1;32mdef\u001b[0m \u001b[0mget_task_progress\u001b[0m\u001b[1;33m(\u001b[0m\u001b[0mself\u001b[0m\u001b[1;33m,\u001b[0m \u001b[0mtask_name\u001b[0m\u001b[1;33m)\u001b[0m\u001b[1;33m:\u001b[0m\u001b[1;33m\u001b[0m\u001b[1;33m\u001b[0m\u001b[0m\n",
      "\u001b[1;31mODPSError\u001b[0m: ODPS-0130071: InstanceId: 2022051106241096g9q4os2t2\nODPS-0130071:[0,0] Semantic analysis exception - physical plan generation failed: java.lang.RuntimeException: Table(opendigger_prod_dev,ods_github_log) is full scan with all partitions, please specify partition predicates.\n\n"
     ]
    }
   ],
   "source": [
    "def exe_sql(sql):\n",
    "    data = []\n",
    "    with o.execute_sql(sql).open_reader() as reader:\n",
    "\n",
    "        d = defaultdict(list)  \n",
    "        for record in reader:\n",
    "            for res in record:\n",
    "                d[res[0]].append(res[1])  \n",
    "        data = pd.DataFrame.from_dict(d,orient='index').T \n",
    "    return data\n",
    "rdata =  exe_sql(\"SELECT actor_id, repo_id, type, created_at FROM ods_github_log;\")"
   ]
  },
  {
   "cell_type": "code",
   "execution_count": 6,
   "metadata": {},
   "outputs": [
    {
     "data": {
      "text/html": [
       "<div>\n",
       "<style scoped>\n",
       "    .dataframe tbody tr th:only-of-type {\n",
       "        vertical-align: middle;\n",
       "    }\n",
       "\n",
       "    .dataframe tbody tr th {\n",
       "        vertical-align: top;\n",
       "    }\n",
       "\n",
       "    .dataframe thead th {\n",
       "        text-align: right;\n",
       "    }\n",
       "</style>\n",
       "<table border=\"1\" class=\"dataframe\">\n",
       "  <thead>\n",
       "    <tr style=\"text-align: right;\">\n",
       "      <th></th>\n",
       "      <th>repo_id</th>\n",
       "      <th>repo_name</th>\n",
       "      <th>repo_forks_count</th>\n",
       "      <th>repo_has_pr</th>\n",
       "    </tr>\n",
       "  </thead>\n",
       "  <tbody>\n",
       "    <tr>\n",
       "      <td>0</td>\n",
       "      <td>20798</td>\n",
       "      <td>svenfuchs/reference_tracking</td>\n",
       "      <td>0</td>\n",
       "      <td>0</td>\n",
       "    </tr>\n",
       "    <tr>\n",
       "      <td>1</td>\n",
       "      <td>22698</td>\n",
       "      <td>averyj/ramazon</td>\n",
       "      <td>0</td>\n",
       "      <td>0</td>\n",
       "    </tr>\n",
       "    <tr>\n",
       "      <td>2</td>\n",
       "      <td>25247</td>\n",
       "      <td>kings/alonetone</td>\n",
       "      <td>0</td>\n",
       "      <td>0</td>\n",
       "    </tr>\n",
       "    <tr>\n",
       "      <td>3</td>\n",
       "      <td>36812</td>\n",
       "      <td>takatoshiono/chin-ma-ya.org</td>\n",
       "      <td>0</td>\n",
       "      <td>0</td>\n",
       "    </tr>\n",
       "    <tr>\n",
       "      <td>4</td>\n",
       "      <td>38382</td>\n",
       "      <td>dcrec1/in_place_editing_i18n</td>\n",
       "      <td>0</td>\n",
       "      <td>0</td>\n",
       "    </tr>\n",
       "    <tr>\n",
       "      <td>...</td>\n",
       "      <td>...</td>\n",
       "      <td>...</td>\n",
       "      <td>...</td>\n",
       "      <td>...</td>\n",
       "    </tr>\n",
       "    <tr>\n",
       "      <td>99995</td>\n",
       "      <td>211570557</td>\n",
       "      <td>direwolf-github/my-app-ee0b9076</td>\n",
       "      <td>0</td>\n",
       "      <td>1</td>\n",
       "    </tr>\n",
       "    <tr>\n",
       "      <td>99996</td>\n",
       "      <td>211570962</td>\n",
       "      <td>iggfoot/samjacksonquizapp</td>\n",
       "      <td>0</td>\n",
       "      <td>0</td>\n",
       "    </tr>\n",
       "    <tr>\n",
       "      <td>99997</td>\n",
       "      <td>211572654</td>\n",
       "      <td>devhub-blue-sea/org-public-empty-repo-us-west-2</td>\n",
       "      <td>0</td>\n",
       "      <td>0</td>\n",
       "    </tr>\n",
       "    <tr>\n",
       "      <td>99998</td>\n",
       "      <td>211573589</td>\n",
       "      <td>michaelmalonenz/craftinginterpreters</td>\n",
       "      <td>0</td>\n",
       "      <td>0</td>\n",
       "    </tr>\n",
       "    <tr>\n",
       "      <td>99999</td>\n",
       "      <td>211574677</td>\n",
       "      <td>burchin/yiban_client</td>\n",
       "      <td>0</td>\n",
       "      <td>0</td>\n",
       "    </tr>\n",
       "  </tbody>\n",
       "</table>\n",
       "<p>100000 rows × 4 columns</p>\n",
       "</div>"
      ],
      "text/plain": [
       "         repo_id                                        repo_name  \\\n",
       "0          20798                     svenfuchs/reference_tracking   \n",
       "1          22698                                   averyj/ramazon   \n",
       "2          25247                                  kings/alonetone   \n",
       "3          36812                      takatoshiono/chin-ma-ya.org   \n",
       "4          38382                     dcrec1/in_place_editing_i18n   \n",
       "...          ...                                              ...   \n",
       "99995  211570557                  direwolf-github/my-app-ee0b9076   \n",
       "99996  211570962                        iggfoot/samjacksonquizapp   \n",
       "99997  211572654  devhub-blue-sea/org-public-empty-repo-us-west-2   \n",
       "99998  211573589             michaelmalonenz/craftinginterpreters   \n",
       "99999  211574677                             burchin/yiban_client   \n",
       "\n",
       "      repo_forks_count repo_has_pr  \n",
       "0                    0           0  \n",
       "1                    0           0  \n",
       "2                    0           0  \n",
       "3                    0           0  \n",
       "4                    0           0  \n",
       "...                ...         ...  \n",
       "99995                0           1  \n",
       "99996                0           0  \n",
       "99997                0           0  \n",
       "99998                0           0  \n",
       "99999                0           0  \n",
       "\n",
       "[100000 rows x 4 columns]"
      ]
     },
     "execution_count": 6,
     "metadata": {},
     "output_type": "execute_result"
    }
   ],
   "source": [
    "rdata"
   ]
  },
  {
   "cell_type": "code",
   "execution_count": null,
   "metadata": {},
   "outputs": [],
   "source": []
  }
 ],
 "metadata": {
  "kernelspec": {
   "display_name": "Python 3",
   "language": "python",
   "name": "python3"
  },
  "language_info": {
   "codemirror_mode": {
    "name": "ipython",
    "version": 3
   },
   "file_extension": ".py",
   "mimetype": "text/x-python",
   "name": "python",
   "nbconvert_exporter": "python",
   "pygments_lexer": "ipython3",
   "version": "3.7.4"
  }
 },
 "nbformat": 4,
 "nbformat_minor": 4
}
