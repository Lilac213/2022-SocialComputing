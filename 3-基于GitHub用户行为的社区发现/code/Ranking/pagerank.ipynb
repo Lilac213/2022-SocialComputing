{
 "cells": [
  {
   "cell_type": "code",
   "execution_count": 7,
   "metadata": {},
   "outputs": [],
   "source": [
    "import pandas as pd\n",
    "import numpy as np\n",
    "import matplotlib.pyplot as plt"
   ]
  },
  {
   "cell_type": "code",
   "execution_count": 2,
   "metadata": {},
   "outputs": [],
   "source": [
    "result = pd.read_csv('result_data.csv')"
   ]
  },
  {
   "cell_type": "code",
   "execution_count": 3,
   "metadata": {},
   "outputs": [
    {
     "data": {
      "text/html": [
       "<div>\n",
       "<style scoped>\n",
       "    .dataframe tbody tr th:only-of-type {\n",
       "        vertical-align: middle;\n",
       "    }\n",
       "\n",
       "    .dataframe tbody tr th {\n",
       "        vertical-align: top;\n",
       "    }\n",
       "\n",
       "    .dataframe thead th {\n",
       "        text-align: right;\n",
       "    }\n",
       "</style>\n",
       "<table border=\"1\" class=\"dataframe\">\n",
       "  <thead>\n",
       "    <tr style=\"text-align: right;\">\n",
       "      <th></th>\n",
       "      <th>Id</th>\n",
       "      <th>Label</th>\n",
       "      <th>timeset</th>\n",
       "      <th>modularity_class</th>\n",
       "      <th>Eccentricity</th>\n",
       "      <th>closnesscentrality</th>\n",
       "      <th>harmonicclosnesscentrality</th>\n",
       "      <th>betweenesscentrality</th>\n",
       "      <th>weighted indegree</th>\n",
       "      <th>weighted outdegree</th>\n",
       "      <th>weighted degree</th>\n",
       "      <th>indegree</th>\n",
       "      <th>outdegree</th>\n",
       "      <th>degree</th>\n",
       "      <th>pageranks</th>\n",
       "    </tr>\n",
       "  </thead>\n",
       "  <tbody>\n",
       "    <tr>\n",
       "      <th>0</th>\n",
       "      <td>50567111</td>\n",
       "      <td>50567111</td>\n",
       "      <td>NaN</td>\n",
       "      <td>0</td>\n",
       "      <td>1</td>\n",
       "      <td>1.0</td>\n",
       "      <td>1.0</td>\n",
       "      <td>0</td>\n",
       "      <td>0</td>\n",
       "      <td>1</td>\n",
       "      <td>1</td>\n",
       "      <td>0</td>\n",
       "      <td>1</td>\n",
       "      <td>1</td>\n",
       "      <td>0.000086</td>\n",
       "    </tr>\n",
       "    <tr>\n",
       "      <th>1</th>\n",
       "      <td>8517910</td>\n",
       "      <td>8517910</td>\n",
       "      <td>NaN</td>\n",
       "      <td>0</td>\n",
       "      <td>0</td>\n",
       "      <td>0.0</td>\n",
       "      <td>0.0</td>\n",
       "      <td>0</td>\n",
       "      <td>16</td>\n",
       "      <td>0</td>\n",
       "      <td>16</td>\n",
       "      <td>16</td>\n",
       "      <td>0</td>\n",
       "      <td>16</td>\n",
       "      <td>0.001187</td>\n",
       "    </tr>\n",
       "    <tr>\n",
       "      <th>2</th>\n",
       "      <td>61306948</td>\n",
       "      <td>61306948</td>\n",
       "      <td>NaN</td>\n",
       "      <td>0</td>\n",
       "      <td>1</td>\n",
       "      <td>1.0</td>\n",
       "      <td>1.0</td>\n",
       "      <td>0</td>\n",
       "      <td>0</td>\n",
       "      <td>1</td>\n",
       "      <td>1</td>\n",
       "      <td>0</td>\n",
       "      <td>1</td>\n",
       "      <td>1</td>\n",
       "      <td>0.000086</td>\n",
       "    </tr>\n",
       "    <tr>\n",
       "      <th>3</th>\n",
       "      <td>60854565</td>\n",
       "      <td>60854565</td>\n",
       "      <td>NaN</td>\n",
       "      <td>0</td>\n",
       "      <td>1</td>\n",
       "      <td>1.0</td>\n",
       "      <td>1.0</td>\n",
       "      <td>0</td>\n",
       "      <td>0</td>\n",
       "      <td>2</td>\n",
       "      <td>2</td>\n",
       "      <td>0</td>\n",
       "      <td>2</td>\n",
       "      <td>2</td>\n",
       "      <td>0.000086</td>\n",
       "    </tr>\n",
       "    <tr>\n",
       "      <th>4</th>\n",
       "      <td>57724193</td>\n",
       "      <td>57724193</td>\n",
       "      <td>NaN</td>\n",
       "      <td>0</td>\n",
       "      <td>1</td>\n",
       "      <td>1.0</td>\n",
       "      <td>1.0</td>\n",
       "      <td>0</td>\n",
       "      <td>0</td>\n",
       "      <td>1</td>\n",
       "      <td>1</td>\n",
       "      <td>0</td>\n",
       "      <td>1</td>\n",
       "      <td>1</td>\n",
       "      <td>0.000086</td>\n",
       "    </tr>\n",
       "  </tbody>\n",
       "</table>\n",
       "</div>"
      ],
      "text/plain": [
       "         Id     Label  timeset  modularity_class  Eccentricity  \\\n",
       "0  50567111  50567111      NaN                 0             1   \n",
       "1   8517910   8517910      NaN                 0             0   \n",
       "2  61306948  61306948      NaN                 0             1   \n",
       "3  60854565  60854565      NaN                 0             1   \n",
       "4  57724193  57724193      NaN                 0             1   \n",
       "\n",
       "   closnesscentrality  harmonicclosnesscentrality  betweenesscentrality  \\\n",
       "0                 1.0                         1.0                     0   \n",
       "1                 0.0                         0.0                     0   \n",
       "2                 1.0                         1.0                     0   \n",
       "3                 1.0                         1.0                     0   \n",
       "4                 1.0                         1.0                     0   \n",
       "\n",
       "   weighted indegree  weighted outdegree  weighted degree  indegree  \\\n",
       "0                  0                   1                1         0   \n",
       "1                 16                   0               16        16   \n",
       "2                  0                   1                1         0   \n",
       "3                  0                   2                2         0   \n",
       "4                  0                   1                1         0   \n",
       "\n",
       "   outdegree  degree  pageranks  \n",
       "0          1       1   0.000086  \n",
       "1          0      16   0.001187  \n",
       "2          1       1   0.000086  \n",
       "3          2       2   0.000086  \n",
       "4          1       1   0.000086  "
      ]
     },
     "execution_count": 3,
     "metadata": {},
     "output_type": "execute_result"
    }
   ],
   "source": [
    "result.head()"
   ]
  },
  {
   "cell_type": "code",
   "execution_count": 17,
   "metadata": {},
   "outputs": [],
   "source": [
    "def visualize_loss_curve2(data1):\n",
    "    line1,=plt.plot(data1,'royalblue',label='relu_training_loss')\n",
    "    plt.title('Visualize PageRanks(p=0.85)')\n",
    "    plt.legend(handles=[line1],labels=['PageRanks'], loc='best')\n",
    "    plt.grid(linestyle='-.')\n",
    "    plt.gcf().set_size_inches(14, 7)\n",
    "    plt.xlabel('User')\n",
    "    plt.ylabel('PageRank')\n",
    "    plt.show()"
   ]
  },
  {
   "cell_type": "code",
   "execution_count": 18,
   "metadata": {},
   "outputs": [
    {
     "data": {
      "image/png": "[encoded data removed]",
      "text/plain": [
       "<Figure size 1008x504 with 1 Axes>"
      ]
     },
     "metadata": {
      "needs_background": "light"
     },
     "output_type": "display_data"
    }
   ],
   "source": [
    "visualize_loss_curve2(result['pageranks'])"
   ]
  },
  {
   "cell_type": "code",
   "execution_count": 68,
   "metadata": {},
   "outputs": [],
   "source": [
    "f=open('part-00000-layer1.txt', encoding='gbk')\n",
    "txt=[]\n",
    "for line in f:\n",
    "    txt.append(line.strip())\n",
    "# print(txt)"
   ]
  },
  {
   "cell_type": "code",
   "execution_count": 81,
   "metadata": {},
   "outputs": [
    {
     "data": {
      "text/plain": [
       "['(80982860,{community:1201310,communitySigmaTot:475,internalWeight:0,nodeWeight:1})',\n",
       " '(8133487,{community:449224,communitySigmaTot:5575,internalWeight:0,nodeWeight:2})',\n",
       " '(30236891,{community:6313872,communitySigmaTot:499,internalWeight:0,nodeWeight:1})',\n",
       " '(4029488,{community:2138339,communitySigmaTot:983,internalWeight:0,nodeWeight:1})',\n",
       " '(12583921,{community:14338007,communitySigmaTot:809,internalWeight:0,nodeWeight:1})',\n",
       " '(10450243,{community:52195,communitySigmaTot:8215,internalWeight:0,nodeWeight:1})',\n",
       " '(93820582,{community:195327,communitySigmaTot:4283,internalWeight:0,nodeWeight:2})',\n",
       " '(30904526,{community:8583900,communitySigmaTot:147,internalWeight:0,nodeWeight:1})',\n",
       " '(73826061,{community:10350960,communitySigmaTot:510,internalWeight:0,nodeWeight:5})',\n",
       " '(5382704,{community:772,communitySigmaTot:10115,internalWeight:0,nodeWeight:1})',\n",
       " '(16624268,{community:3576549,communitySigmaTot:2712,internalWeight:0,nodeWeight:2})',\n",
       " '(51903065,{community:710255,communitySigmaTot:21868,internalWeight:0,nodeWeight:1})',\n",
       " '(19533740,{community:4196,communitySigmaTot:36736,internalWeight:0,nodeWeight:1})',\n",
       " '(41480131,{community:151929,communitySigmaTot:1735,internalWeight:0,nodeWeight:1})',\n",
       " '(83389612,{community:6035284,communitySigmaTot:1768,internalWeight:0,nodeWeight:1})',\n",
       " '(11550519,{community:2621,communitySigmaTot:13012,internalWeight:0,nodeWeight:3})',\n",
       " '(883088,{community:63014,communitySigmaTot:307,internalWeight:0,nodeWeight:2})',\n",
       " '(1725475,{community:2621,communitySigmaTot:13012,internalWeight:0,nodeWeight:1})',\n",
       " '(552318,{community:463230,communitySigmaTot:38047,internalWeight:0,nodeWeight:1})',\n",
       " '(17900656,{community:617481,communitySigmaTot:7766,internalWeight:0,nodeWeight:2})',\n",
       " '(16442581,{community:6508,communitySigmaTot:993,internalWeight:0,nodeWeight:1})',\n",
       " '(35893549,{community:84712,communitySigmaTot:1228,internalWeight:0,nodeWeight:1})',\n",
       " '(6594924,{community:2746074,communitySigmaTot:967,internalWeight:0,nodeWeight:1})',\n",
       " '(23059355,{community:108653,communitySigmaTot:8937,internalWeight:0,nodeWeight:1})',\n",
       " '(18510209,{community:19343,communitySigmaTot:9426,internalWeight:0,nodeWeight:2})',\n",
       " '(14854243,{community:1500684,communitySigmaTot:32636,internalWeight:0,nodeWeight:2})',\n",
       " '(20484267,{community:1500684,communitySigmaTot:32636,internalWeight:0,nodeWeight:1})',\n",
       " '(26624262,{community:504179,communitySigmaTot:577,internalWeight:0,nodeWeight:1})',\n",
       " '(30748558,{community:142698,communitySigmaTot:633,internalWeight:0,nodeWeight:2})',\n",
       " '(11166947,{community:588128,communitySigmaTot:283,internalWeight:0,nodeWeight:3})',\n",
       " '(32296241,{community:4196,communitySigmaTot:36736,internalWeight:0,nodeWeight:1})',\n",
       " '(6779239,{community:26336,communitySigmaTot:995,internalWeight:0,nodeWeight:1})',\n",
       " '(1216236,{community:9582,communitySigmaTot:18911,internalWeight:0,nodeWeight:1})',\n",
       " '(5839548,{community:1282577,communitySigmaTot:1309,internalWeight:0,nodeWeight:9})',\n",
       " '(66743001,{community:65046903,communitySigmaTot:24,internalWeight:0,nodeWeight:2})',\n",
       " '(44732877,{community:5368500,communitySigmaTot:477,internalWeight:0,nodeWeight:1})',\n",
       " '(30078903,{community:463230,communitySigmaTot:38047,internalWeight:0,nodeWeight:1})',\n",
       " '(36946531,{community:499550,communitySigmaTot:117506,internalWeight:0,nodeWeight:1})',\n",
       " '(58012926,{community:49038,communitySigmaTot:7673,internalWeight:0,nodeWeight:1})',\n",
       " '(9566171,{community:1948812,communitySigmaTot:1690,internalWeight:0,nodeWeight:2})',\n",
       " '(6301530,{community:1445228,communitySigmaTot:17132,internalWeight:0,nodeWeight:1})',\n",
       " '(13791855,{community:16558115,communitySigmaTot:249,internalWeight:0,nodeWeight:1})',\n",
       " '(52785000,{community:7253922,communitySigmaTot:1805,internalWeight:0,nodeWeight:1})',\n",
       " '(3077446,{community:617481,communitySigmaTot:7766,internalWeight:0,nodeWeight:1})',\n",
       " '(11873519,{community:18581488,communitySigmaTot:1062,internalWeight:0,nodeWeight:1})',\n",
       " '(17922409,{community:12689835,communitySigmaTot:2007,internalWeight:0,nodeWeight:1})',\n",
       " '(66039590,{community:170270,communitySigmaTot:65970,internalWeight:0,nodeWeight:1})',\n",
       " '(75902013,{community:46970457,communitySigmaTot:3440,internalWeight:0,nodeWeight:1})',\n",
       " '(57648024,{community:25881154,communitySigmaTot:1208,internalWeight:0,nodeWeight:1})',\n",
       " '(5050488,{community:170270,communitySigmaTot:65970,internalWeight:0,nodeWeight:1})',\n",
       " '(1619756,{community:4196,communitySigmaTot:36736,internalWeight:0,nodeWeight:1})',\n",
       " '(1352868,{community:170270,communitySigmaTot:65970,internalWeight:0,nodeWeight:1})',\n",
       " '(6727141,{community:1493571,communitySigmaTot:882,internalWeight:0,nodeWeight:1})',\n",
       " '(14949149,{community:21091736,communitySigmaTot:715,internalWeight:0,nodeWeight:1})',\n",
       " '(44095150,{community:4196,communitySigmaTot:36736,internalWeight:0,nodeWeight:1})',\n",
       " '(30753927,{community:449224,communitySigmaTot:5575,internalWeight:0,nodeWeight:1})',\n",
       " '(30317673,{community:6829628,communitySigmaTot:1325,internalWeight:0,nodeWeight:1})',\n",
       " '(62369034,{community:1825120,communitySigmaTot:1726,internalWeight:0,nodeWeight:1})',\n",
       " '(1649081,{community:65675,communitySigmaTot:3297,internalWeight:0,nodeWeight:1})',\n",
       " '(48430255,{community:664177,communitySigmaTot:7354,internalWeight:0,nodeWeight:5})',\n",
       " '(73744173,{community:1402241,communitySigmaTot:2001,internalWeight:0,nodeWeight:1})',\n",
       " '(4965888,{community:9953,communitySigmaTot:1732,internalWeight:0,nodeWeight:1})',\n",
       " '(85157626,{community:499550,communitySigmaTot:117506,internalWeight:0,nodeWeight:1})',\n",
       " '(94093484,{community:28480705,communitySigmaTot:1410,internalWeight:0,nodeWeight:5})',\n",
       " '(1966319,{community:1944093,communitySigmaTot:433,internalWeight:0,nodeWeight:1})',\n",
       " '(78884414,{community:40482367,communitySigmaTot:761,internalWeight:0,nodeWeight:1})',\n",
       " '(33389378,{community:854520,communitySigmaTot:1915,internalWeight:0,nodeWeight:2})',\n",
       " '(50625169,{community:10351787,communitySigmaTot:25,internalWeight:0,nodeWeight:1})',\n",
       " '(48753581,{community:41145062,communitySigmaTot:102,internalWeight:0,nodeWeight:1})',\n",
       " '(69933,{community:9582,communitySigmaTot:18911,internalWeight:0,nodeWeight:1})',\n",
       " '(3476299,{community:90494,communitySigmaTot:6604,internalWeight:0,nodeWeight:1})',\n",
       " '(29707948,{community:17892,communitySigmaTot:3484,internalWeight:0,nodeWeight:1})',\n",
       " '(44552838,{community:29931815,communitySigmaTot:2065,internalWeight:0,nodeWeight:1})',\n",
       " '(83252177,{community:180032,communitySigmaTot:1237,internalWeight:0,nodeWeight:1})',\n",
       " '(6769395,{community:23529759,communitySigmaTot:212,internalWeight:0,nodeWeight:2})',\n",
       " '(83056145,{community:170270,communitySigmaTot:65970,internalWeight:0,nodeWeight:1})',\n",
       " '(24326690,{community:5524384,communitySigmaTot:1486,internalWeight:0,nodeWeight:1})',\n",
       " '(80940218,{community:34748927,communitySigmaTot:331,internalWeight:0,nodeWeight:2})',\n",
       " '(8758672,{community:467069,communitySigmaTot:127,internalWeight:0,nodeWeight:1})',\n",
       " '(1162017,{community:1617930,communitySigmaTot:370,internalWeight:0,nodeWeight:2})',\n",
       " '(16541239,{community:499550,communitySigmaTot:117506,internalWeight:0,nodeWeight:1})',\n",
       " '(64368383,{community:695473,communitySigmaTot:1319,internalWeight:0,nodeWeight:4})',\n",
       " '(25200451,{community:499550,communitySigmaTot:117506,internalWeight:0,nodeWeight:1})',\n",
       " '(32951928,{community:11247099,communitySigmaTot:10396,internalWeight:0,nodeWeight:2})',\n",
       " '(882701,{community:882701,communitySigmaTot:2,internalWeight:0,nodeWeight:1})',\n",
       " '(8037634,{community:1279749,communitySigmaTot:467,internalWeight:0,nodeWeight:1})',\n",
       " '(75843106,{community:4196,communitySigmaTot:36736,internalWeight:0,nodeWeight:1})',\n",
       " '(87610518,{community:5718007,communitySigmaTot:1236,internalWeight:0,nodeWeight:4})',\n",
       " '(61988691,{community:9599,communitySigmaTot:4440,internalWeight:0,nodeWeight:1})',\n",
       " '(19433743,{community:9073706,communitySigmaTot:1738,internalWeight:0,nodeWeight:1})',\n",
       " '(37651654,{community:12689835,communitySigmaTot:2007,internalWeight:0,nodeWeight:2})',\n",
       " '(46555770,{community:2212006,communitySigmaTot:5785,internalWeight:0,nodeWeight:1})',\n",
       " '(86371442,{community:191335,communitySigmaTot:4240,internalWeight:0,nodeWeight:1})',\n",
       " '(8919703,{community:16307013,communitySigmaTot:462,internalWeight:0,nodeWeight:2})',\n",
       " '(33893038,{community:128885,communitySigmaTot:5231,internalWeight:0,nodeWeight:1})',\n",
       " '(64876523,{community:18066964,communitySigmaTot:119,internalWeight:0,nodeWeight:1})',\n",
       " '(24496417,{community:20051258,communitySigmaTot:986,internalWeight:0,nodeWeight:7})',\n",
       " '(22496844,{community:29597,communitySigmaTot:11530,internalWeight:0,nodeWeight:1})',\n",
       " '(21974568,{community:463230,communitySigmaTot:38047,internalWeight:0,nodeWeight:1})']"
      ]
     },
     "execution_count": 81,
     "metadata": {},
     "output_type": "execute_result"
    }
   ],
   "source": [
    "txt[1:100]"
   ]
  },
  {
   "cell_type": "code",
   "execution_count": 70,
   "metadata": {},
   "outputs": [
    {
     "data": {
      "text/plain": [
       "'1201310'"
      ]
     },
     "execution_count": 70,
     "metadata": {},
     "output_type": "execute_result"
    }
   ],
   "source": [
    "txt[1].split(',')[1][11:]"
   ]
  },
  {
   "cell_type": "code",
   "execution_count": 71,
   "metadata": {},
   "outputs": [],
   "source": [
    "communities = []"
   ]
  },
  {
   "cell_type": "code",
   "execution_count": 72,
   "metadata": {},
   "outputs": [],
   "source": [
    "for line in txt:\n",
    "    communities.append(line.split(',')[1][11:])"
   ]
  },
  {
   "cell_type": "code",
   "execution_count": 73,
   "metadata": {},
   "outputs": [],
   "source": [
    "# communities = ['communityID'] + communities"
   ]
  },
  {
   "cell_type": "code",
   "execution_count": 74,
   "metadata": {},
   "outputs": [],
   "source": [
    "from pandas import DataFrame"
   ]
  },
  {
   "cell_type": "code",
   "execution_count": 75,
   "metadata": {},
   "outputs": [],
   "source": [
    "# df = pd.DataFrame(communityID)"
   ]
  },
  {
   "cell_type": "code",
   "execution_count": 76,
   "metadata": {},
   "outputs": [],
   "source": [
    "df = pd.DataFrame({'communityID': communities})"
   ]
  },
  {
   "cell_type": "code",
   "execution_count": 77,
   "metadata": {},
   "outputs": [
    {
     "data": {
      "text/plain": [
       "3771"
      ]
     },
     "execution_count": 77,
     "metadata": {},
     "output_type": "execute_result"
    }
   ],
   "source": [
    "len(df['communityID'].unique())"
   ]
  },
  {
   "cell_type": "code",
   "execution_count": null,
   "metadata": {},
   "outputs": [],
   "source": []
  }
 ],
 "metadata": {
  "kernelspec": {
   "display_name": "Python 3",
   "language": "python",
   "name": "python3"
  },
  "language_info": {
   "codemirror_mode": {
    "name": "ipython",
    "version": 3
   },
   "file_extension": ".py",
   "mimetype": "text/x-python",
   "name": "python",
   "nbconvert_exporter": "python",
   "pygments_lexer": "ipython3",
   "version": "3.8.5"
  }
 },
 "nbformat": 4,
 "nbformat_minor": 4
}
