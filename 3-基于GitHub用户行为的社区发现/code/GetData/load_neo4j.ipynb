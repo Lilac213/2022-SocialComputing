{
 "cells": [
  {
   "cell_type": "code",
   "execution_count": 1,
   "metadata": {},
   "outputs": [
    {
     "name": "stdout",
     "output_type": "stream",
     "text": [
      "Requirement already satisfied: py2neo in /Users/sunqiushi/opt/anaconda3/lib/python3.8/site-packages (2021.2.3)\n",
      "Requirement already satisfied: pygments>=2.0.0 in /Users/sunqiushi/opt/anaconda3/lib/python3.8/site-packages (from py2neo) (2.7.2)\n",
      "Requirement already satisfied: six>=1.15.0 in /Users/sunqiushi/opt/anaconda3/lib/python3.8/site-packages (from py2neo) (1.15.0)\n",
      "Requirement already satisfied: monotonic in /Users/sunqiushi/opt/anaconda3/lib/python3.8/site-packages (from py2neo) (1.6)\n",
      "Requirement already satisfied: interchange~=2021.0.4 in /Users/sunqiushi/opt/anaconda3/lib/python3.8/site-packages (from py2neo) (2021.0.4)\n",
      "Requirement already satisfied: packaging in /Users/sunqiushi/opt/anaconda3/lib/python3.8/site-packages (from py2neo) (20.4)\n",
      "Requirement already satisfied: certifi in /Users/sunqiushi/opt/anaconda3/lib/python3.8/site-packages (from py2neo) (2020.6.20)\n",
      "Requirement already satisfied: urllib3 in /Users/sunqiushi/opt/anaconda3/lib/python3.8/site-packages (from py2neo) (1.25.11)\n",
      "Requirement already satisfied: pansi>=2020.7.3 in /Users/sunqiushi/opt/anaconda3/lib/python3.8/site-packages (from py2neo) (2020.7.3)\n",
      "Requirement already satisfied: pytz in /Users/sunqiushi/opt/anaconda3/lib/python3.8/site-packages (from interchange~=2021.0.4->py2neo) (2020.1)\n",
      "Requirement already satisfied: pyparsing>=2.0.2 in /Users/sunqiushi/opt/anaconda3/lib/python3.8/site-packages (from packaging->py2neo) (2.4.7)\n"
     ]
    }
   ],
   "source": [
    "!pip install py2neo"
   ]
  },
  {
   "cell_type": "code",
   "execution_count": 1,
   "metadata": {},
   "outputs": [
    {
     "data": {
      "text/plain": [
       "131072"
      ]
     },
     "execution_count": 1,
     "metadata": {},
     "output_type": "execute_result"
    }
   ],
   "source": [
    "import csv\n",
    "import pandas as pd\n",
    "csv.field_size_limit(10000000)"
   ]
  },
  {
   "cell_type": "code",
   "execution_count": 2,
   "metadata": {},
   "outputs": [],
   "source": [
    "from py2neo import Graph, Node, Relationship"
   ]
  },
  {
   "cell_type": "code",
   "execution_count": 3,
   "metadata": {},
   "outputs": [],
   "source": [
    "graph = Graph(\"bolt://localhost:7687\", auth=(\"neo4j\", \"********\"))"
   ]
  },
  {
   "cell_type": "code",
   "execution_count": 66,
   "metadata": {},
   "outputs": [],
   "source": [
    "# graph.delete_all()"
   ]
  },
  {
   "cell_type": "code",
   "execution_count": 7,
   "metadata": {},
   "outputs": [],
   "source": [
    "userID_followers_data = pd.read_csv('preprocessed_id_followers.csv')"
   ]
  },
  {
   "cell_type": "code",
   "execution_count": 12,
   "metadata": {},
   "outputs": [],
   "source": [
    "len_user_follow_data = len(userID_followers_data)"
   ]
  },
  {
   "cell_type": "code",
   "execution_count": 11,
   "metadata": {},
   "outputs": [
    {
     "data": {
      "text/html": [
       "<div>\n",
       "<style scoped>\n",
       "    .dataframe tbody tr th:only-of-type {\n",
       "        vertical-align: middle;\n",
       "    }\n",
       "\n",
       "    .dataframe tbody tr th {\n",
       "        vertical-align: top;\n",
       "    }\n",
       "\n",
       "    .dataframe thead th {\n",
       "        text-align: right;\n",
       "    }\n",
       "</style>\n",
       "<table border=\"1\" class=\"dataframe\">\n",
       "  <thead>\n",
       "    <tr style=\"text-align: right;\">\n",
       "      <th></th>\n",
       "      <th>id</th>\n",
       "      <th>Follower</th>\n",
       "    </tr>\n",
       "  </thead>\n",
       "  <tbody>\n",
       "    <tr>\n",
       "      <th>0</th>\n",
       "      <td>8517910</td>\n",
       "      <td>50567111</td>\n",
       "    </tr>\n",
       "    <tr>\n",
       "      <th>1</th>\n",
       "      <td>8517910</td>\n",
       "      <td>61306948</td>\n",
       "    </tr>\n",
       "    <tr>\n",
       "      <th>2</th>\n",
       "      <td>8517910</td>\n",
       "      <td>60854565</td>\n",
       "    </tr>\n",
       "    <tr>\n",
       "      <th>3</th>\n",
       "      <td>8517910</td>\n",
       "      <td>57724193</td>\n",
       "    </tr>\n",
       "    <tr>\n",
       "      <th>4</th>\n",
       "      <td>8517910</td>\n",
       "      <td>55095689</td>\n",
       "    </tr>\n",
       "    <tr>\n",
       "      <th>...</th>\n",
       "      <td>...</td>\n",
       "      <td>...</td>\n",
       "    </tr>\n",
       "    <tr>\n",
       "      <th>11734949</th>\n",
       "      <td>67332180</td>\n",
       "      <td>76581910</td>\n",
       "    </tr>\n",
       "    <tr>\n",
       "      <th>11734950</th>\n",
       "      <td>67332180</td>\n",
       "      <td>90369758</td>\n",
       "    </tr>\n",
       "    <tr>\n",
       "      <th>11734951</th>\n",
       "      <td>67332180</td>\n",
       "      <td>72910664</td>\n",
       "    </tr>\n",
       "    <tr>\n",
       "      <th>11734952</th>\n",
       "      <td>67332180</td>\n",
       "      <td>72599709</td>\n",
       "    </tr>\n",
       "    <tr>\n",
       "      <th>11734953</th>\n",
       "      <td>67332180</td>\n",
       "      <td>34569793</td>\n",
       "    </tr>\n",
       "  </tbody>\n",
       "</table>\n",
       "<p>11734954 rows × 2 columns</p>\n",
       "</div>"
      ],
      "text/plain": [
       "                id  Follower\n",
       "0          8517910  50567111\n",
       "1          8517910  61306948\n",
       "2          8517910  60854565\n",
       "3          8517910  57724193\n",
       "4          8517910  55095689\n",
       "...            ...       ...\n",
       "11734949  67332180  76581910\n",
       "11734950  67332180  90369758\n",
       "11734951  67332180  72910664\n",
       "11734952  67332180  72599709\n",
       "11734953  67332180  34569793\n",
       "\n",
       "[11734954 rows x 2 columns]"
      ]
     },
     "execution_count": 11,
     "metadata": {},
     "output_type": "execute_result"
    }
   ],
   "source": [
    "userID_followers_data[['id','Follower']]"
   ]
  },
  {
   "cell_type": "code",
   "execution_count": 22,
   "metadata": {},
   "outputs": [
    {
     "data": {
      "text/plain": [
       "8517910"
      ]
     },
     "execution_count": 22,
     "metadata": {},
     "output_type": "execute_result"
    }
   ],
   "source": [
    "userID_followers_data['id'][0]"
   ]
  },
  {
   "cell_type": "code",
   "execution_count": 27,
   "metadata": {},
   "outputs": [],
   "source": [
    "for i in range(500):\n",
    "    temp_r = Relationship(Node('GitHubUser', name = str(userID_followers_data['Follower'][i])),'Follow', Node('GitHubUser', name = str(userID_followers_data['Follower'][i])))\n",
    "    graph.create(temp_r)                   "
   ]
  },
  {
   "cell_type": "code",
   "execution_count": 48,
   "metadata": {},
   "outputs": [],
   "source": [
    "with open('preprocessed_user.csv') as f:\n",
    "    reader = csv.reader(f)\n",
    "    data = list(reader)"
   ]
  },
  {
   "cell_type": "code",
   "execution_count": 55,
   "metadata": {},
   "outputs": [
    {
     "data": {
      "text/plain": [
       "['',\n",
       " 'Unnamed: 0',\n",
       " 'login',\n",
       " 'created_at',\n",
       " 'database_id',\n",
       " 'location',\n",
       " 'company',\n",
       " 'bio',\n",
       " 'is_employee',\n",
       " 'email',\n",
       " 'infoname',\n",
       " 'followers',\n",
       " 'following',\n",
       " 'time',\n",
       " 'name',\n",
       " 'lastupdatedat',\n",
       " 'nextupdateat']"
      ]
     },
     "execution_count": 55,
     "metadata": {},
     "output_type": "execute_result"
    }
   ],
   "source": [
    "data[0]"
   ]
  },
  {
   "cell_type": "code",
   "execution_count": 50,
   "metadata": {},
   "outputs": [
    {
     "data": {
      "text/plain": [
       "17"
      ]
     },
     "execution_count": 50,
     "metadata": {},
     "output_type": "execute_result"
    }
   ],
   "source": [
    "len(data[111])"
   ]
  },
  {
   "cell_type": "code",
   "execution_count": 51,
   "metadata": {},
   "outputs": [
    {
     "data": {
      "text/plain": [
       "'facebook-github-bot'"
      ]
     },
     "execution_count": 51,
     "metadata": {},
     "output_type": "execute_result"
    }
   ],
   "source": [
    "data[111][14]"
   ]
  },
  {
   "cell_type": "code",
   "execution_count": 52,
   "metadata": {},
   "outputs": [
    {
     "data": {
      "text/plain": [
       "'Lombiq Technologies Ltd.'"
      ]
     },
     "execution_count": 52,
     "metadata": {},
     "output_type": "execute_result"
    }
   ],
   "source": [
    "data[1][6]"
   ]
  },
  {
   "cell_type": "code",
   "execution_count": 53,
   "metadata": {},
   "outputs": [
    {
     "data": {
      "text/plain": [
       "218621"
      ]
     },
     "execution_count": 53,
     "metadata": {},
     "output_type": "execute_result"
    }
   ],
   "source": [
    "len(data)"
   ]
  },
  {
   "cell_type": "code",
   "execution_count": 56,
   "metadata": {},
   "outputs": [
    {
     "data": {
      "text/plain": [
       "['',\n",
       " 'Unnamed: 0',\n",
       " 'login',\n",
       " 'created_at',\n",
       " 'database_id',\n",
       " 'location',\n",
       " 'company',\n",
       " 'bio',\n",
       " 'is_employee',\n",
       " 'email',\n",
       " 'infoname',\n",
       " 'followers',\n",
       " 'following',\n",
       " 'time',\n",
       " 'name',\n",
       " 'lastupdatedat',\n",
       " 'nextupdateat']"
      ]
     },
     "execution_count": 56,
     "metadata": {},
     "output_type": "execute_result"
    }
   ],
   "source": [
    "data[0]"
   ]
  },
  {
   "cell_type": "code",
   "execution_count": 62,
   "metadata": {},
   "outputs": [
    {
     "data": {
      "text/plain": [
       "['522',\n",
       " '522',\n",
       " 'sesheta',\n",
       " '2017-11-22',\n",
       " '33906690',\n",
       " '',\n",
       " 'I work for @AICoE',\n",
       " 'she who is the scribe.\\n\\nIf you want to follow me: https://twitter.com/thothstation',\n",
       " 'False',\n",
       " '',\n",
       " 'Thoth Bot',\n",
       " '32435206,61352642,10397574,24243527,22333506,22432723,41289772',\n",
       " '880687',\n",
       " '2021-11-11',\n",
       " 'sesheta',\n",
       " '2022-01-16',\n",
       " '2022-02-15']"
      ]
     },
     "execution_count": 62,
     "metadata": {},
     "output_type": "execute_result"
    }
   ],
   "source": [
    "data[180]"
   ]
  },
  {
   "cell_type": "code",
   "execution_count": null,
   "metadata": {},
   "outputs": [],
   "source": [
    "for i in range(1,len(data)):\n",
    "    if i % 1000 == 0:\n",
    "        print(i,'entries loaded')\n",
    "    node = Node('GitHubUser', userID = data[i][4])\n",
    "    relation = Node('login', Login = data[i][2])\n",
    "    relation2 = Node('place', Place = data[i][5])\n",
    "    relation3 = Node('comp', Company = data[i][6])\n",
    "    relation4 = Node('name', Name = data[i][14])\n",
    "    relation5 = Node('bio', Bio = data[i][7])\n",
    "    relation6 = Node('createdAt', CreatedAt = data[i][3])\n",
    "    relation7 = Node('lastupdateAt', LastUpdateAt = data[i][15])\n",
    "    relation8 = Node('infoname', InfoName = data[i][10])\n",
    "    \n",
    "    graph.create(node)\n",
    "    graph.create(relation)\n",
    "    graph.create(relation2)\n",
    "    graph.create(relation3)\n",
    "    graph.create(relation4)\n",
    "    graph.create(relation5)\n",
    "    graph.create(relation6)\n",
    "    graph.create(relation7)\n",
    "    graph.create(relation8)\n",
    "    \n",
    "    login = Relationship(node, 'Login', relation)\n",
    "    place = Relationship(node, 'Place', relation2)\n",
    "    comp = Relationship(node, 'Comp', relation3)\n",
    "    name = Relationship(node, 'Name', relation4)\n",
    "    bio = Relationship(node, 'Bio', relation5)\n",
    "    createdat = Relationship(node, 'CreatedAt', relation6)\n",
    "    lastupdateat = Relationship(node, 'LastUpdatedAt', relation7)\n",
    "    infoname = Relationship(node, 'InfoName', relation8)\n",
    "    \n",
    "    graph.create(login)\n",
    "    graph.create(place)\n",
    "    graph.create(comp)\n",
    "    graph.create(name)\n",
    "    graph.create(bio)\n",
    "    graph.create(createdat)\n",
    "    graph.create(lastupdateat)\n",
    "    graph.create(infoname)"
   ]
  },
  {
   "cell_type": "code",
   "execution_count": null,
   "metadata": {},
   "outputs": [],
   "source": [
    "# graph.run('MATCH(entity1:GitHub User), (entity2:Follower{userID:entity1.Follower}) CREATE (entity1)-[:Follower]->(entity2)')"
   ]
  },
  {
   "cell_type": "code",
   "execution_count": 36,
   "metadata": {},
   "outputs": [],
   "source": [
    "test_node = Node('GitHubUser', userID = data[1][3], Follower = data[1][10], Following=data[1][11])"
   ]
  },
  {
   "cell_type": "code",
   "execution_count": 39,
   "metadata": {},
   "outputs": [
    {
     "data": {
      "text/plain": [
       "'8517910'"
      ]
     },
     "execution_count": 39,
     "metadata": {},
     "output_type": "execute_result"
    }
   ],
   "source": [
    "test_node['userID']"
   ]
  },
  {
   "cell_type": "code",
   "execution_count": null,
   "metadata": {},
   "outputs": [],
   "source": []
  }
 ],
 "metadata": {
  "kernelspec": {
   "display_name": "Python 3",
   "language": "python",
   "name": "python3"
  },
  "language_info": {
   "codemirror_mode": {
    "name": "ipython",
    "version": 3
   },
   "file_extension": ".py",
   "mimetype": "text/x-python",
   "name": "python",
   "nbconvert_exporter": "python",
   "pygments_lexer": "ipython3",
   "version": "3.8.5"
  }
 },
 "nbformat": 4,
 "nbformat_minor": 4
}
