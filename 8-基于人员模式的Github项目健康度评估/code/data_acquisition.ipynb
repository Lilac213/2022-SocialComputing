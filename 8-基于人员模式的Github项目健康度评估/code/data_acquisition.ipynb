{
 "cells": [
  {
   "cell_type": "code",
   "execution_count": null,
   "id": "00cb6e26",
   "metadata": {},
   "outputs": [],
   "source": [
    "from odps import ODPS\n",
    "from odps import options\n",
    "from odps.df import DataFrame\n",
    "import pandas as pd\n",
    "import numpy as np\n",
    "\n",
    "ACCESS_ID = 'LTAI5t9uwJrh5eJ7Q5E37D1s'\n",
    "SECRET_ACCESS_KEY = 'NCFHOAnvqfnTrpypgR4b3cNawP8fnB'\n",
    "ODPS_PROJECT = 'OpenDigger_prod_dev'\n",
    "ODPS_ENDPOINT = 'http://service.cn-shanghai.maxcompute.aliyun.com/api'\n",
    "# 创建odps实例\n",
    "o = ODPS(ACCESS_ID, SECRET_ACCESS_KEY,\n",
    "         project=ODPS_PROJECT, endpoint=ODPS_ENDPOINT)\n",
    "options.tunnel.limit_instance_tunnel = False\n",
    "# options.read_timeout = 3600000"
   ]
  },
  {
   "cell_type": "code",
   "execution_count": null,
   "id": "cda6123c",
   "metadata": {},
   "outputs": [],
   "source": [
    "# 创建临时数据库\n",
    "TEMP_TABLE_NAME = 'test_repo'\n",
    "drop_sql = '''\n",
    "    DROP TABLE IF EXISTS {TEMP_TABLE_NAME};\n",
    "    CREATE TABLE IF NOT EXISTS {TEMP_TABLE_NAME}\n",
    "    (\n",
    "        actor_id BIGINT,\n",
    "        type String,\n",
    "        action String,\n",
    "        actor_login String,\n",
    "        created_date DATETIME,\n",
    "        issue_number INT,\n",
    "        issue_comments SMALLINT,\n",
    "        pull_commits SMALLINT,\n",
    "        pull_merged TINYINT,\n",
    "        pull_review_comments SMALLINT,\n",
    "        repo_forks_count INT\n",
    "    );\n",
    "'''.format(\n",
    "    TEMP_TABLE_NAME=TEMP_TABLE_NAME\n",
    ")\n",
    "o.execute_sql(drop_sql, hints={'odps.sql.allow.fullscan': 'true', 'odps.sql.submit.mode': 'script'})"
   ]
  },
  {
   "cell_type": "code",
   "execution_count": null,
   "id": "d5188203",
   "metadata": {},
   "outputs": [],
   "source": [
    "select_sql = '''\n",
    "INSERT INTO {TEMP_TABLE_NAME}   \n",
    "SELECT\n",
    "    actor_id,\n",
    "    type,\n",
    "    action,\n",
    "    actor_login,\n",
    "    created_at,\n",
    "    issue_number,\n",
    "    issue_comments,\n",
    "    pull_commits,\n",
    "    pull_merged,\n",
    "    pull_review_comments,\n",
    "    repo_forks_count\n",
    "FROM ods_github_log\n",
    "WHERE repo_name='PaddlePaddle/Paddle'\n",
    "and pt>'20210101' and pt <= '20211201'\n",
    "'''.format(\n",
    "    TEMP_TABLE_NAME=TEMP_TABLE_NAME\n",
    ")\n",
    "\n",
    "table = o.execute_sql(select_sql ,hints={'odps.sql.allow.fullscan': 'true', 'odps.sql.submit.mode': 'script'})"
   ]
  },
  {
   "cell_type": "code",
   "execution_count": null,
   "id": "72eedf3c",
   "metadata": {},
   "outputs": [],
   "source": [
    "# 获取需要导出的项目\n",
    "select_sql = '''\n",
    "    set odps.sql.validate.orderby.limit=false;\n",
    "    SELECT  \n",
    "        actor_id,\n",
    "        actor_login,\n",
    "        type,\n",
    "        action,\n",
    "        created_date,\n",
    "        issue_number,\n",
    "        issue_comments,\n",
    "        pull_commits,\n",
    "        pull_merged,\n",
    "        pull_review_comments,\n",
    "        repo_forks_count\n",
    "    FROM    {TEMP_TABLE_NAME}\n",
    "    '''.format(\n",
    "    TEMP_TABLE_NAME=TEMP_TABLE_NAME,\n",
    ")\n",
    "table = o.execute_sql(select_sql, hints={'odps.sql.allow.fullscan': 'true', 'odps.sql.submit.mode': 'script'})\n",
    "\n",
    "#保存本地\n",
    "data_test=pd.DataFrame(columns=['actor_id','actor_login','type','action','created_date','issue_number','issue_comments','pull_commits','pull_merged','pull_review_comments','repo_forks_count'])\n",
    "i = 0\n",
    "with table.open_reader() as reader:\n",
    "    for record in reader:\n",
    "#         if i==10:\n",
    "#             break\n",
    "        data_test.loc[i]=[record[0],record[1],record[2],record[3],record[4],record[5],record[6],record[7],record[8],record[9],record[10]]\n",
    "        i+=1   \n"
   ]
  },
  {
   "cell_type": "code",
   "execution_count": null,
   "id": "7f98e52e",
   "metadata": {},
   "outputs": [],
   "source": [
    "data_test[data_test['actor_login']!='paddle-bot[bot]']"
   ]
  },
  {
   "cell_type": "code",
   "execution_count": null,
   "id": "3ff96e7e",
   "metadata": {},
   "outputs": [],
   "source": [
    "data_test.to_csv('Paddle_2021_loc.csv')"
   ]
  },
  {
   "cell_type": "code",
   "execution_count": null,
   "id": "b9b72292",
   "metadata": {},
   "outputs": [],
   "source": [
    "data=pd.read_csv('Paddle_2021_loc.csv')\n",
    "data"
   ]
  },
  {
   "cell_type": "code",
   "execution_count": null,
   "id": "33bc6b9c",
   "metadata": {},
   "outputs": [],
   "source": [
    "data=data[data['actor_login']!='paddle-bot[bot]']\n",
    "data"
   ]
  },
  {
   "cell_type": "code",
   "execution_count": null,
   "id": "42477c2c",
   "metadata": {},
   "outputs": [],
   "source": [
    "data=data.fillna(0)\n",
    "data"
   ]
  },
  {
   "cell_type": "code",
   "execution_count": null,
   "id": "3843e93b",
   "metadata": {},
   "outputs": [],
   "source": [
    "def categorize(row):\n",
    "    return 1 if row['pull_merged']!=0 else 0"
   ]
  },
  {
   "cell_type": "code",
   "execution_count": null,
   "id": "ff46cf3a",
   "metadata": {},
   "outputs": [],
   "source": [
    "data['contributer']=data.apply(lambda row:categorize(row),axis=1)\n",
    "data"
   ]
  },
  {
   "cell_type": "code",
   "execution_count": null,
   "id": "ffc483f1",
   "metadata": {},
   "outputs": [],
   "source": [
    "data[data['contributer']!=0].shape"
   ]
  },
  {
   "cell_type": "code",
   "execution_count": null,
   "id": "8fa9bebb",
   "metadata": {},
   "outputs": [],
   "source": [
    "import xgboost as xgb\n",
    "from sklearn import metrics\n",
    "from sklearn.model_selection import train_test_split\n",
    "import matplotlib.pyplot as plt"
   ]
  },
  {
   "cell_type": "code",
   "execution_count": null,
   "id": "f47e90ce",
   "metadata": {},
   "outputs": [],
   "source": [
    "X=data.drop(columns=['Unnamed: 0','actor_id','actor_login','type','action','created_date','contributer'])\n",
    "y=data['contributer']"
   ]
  },
  {
   "cell_type": "code",
   "execution_count": null,
   "id": "a58ea2b0",
   "metadata": {},
   "outputs": [],
   "source": [
    "model=xgb.XGBClassifier(max_depth=10, gamma=0.5, learning_rate= 0.1)\n",
    "model.fit(X,y)"
   ]
  },
  {
   "cell_type": "code",
   "execution_count": null,
   "id": "03452908",
   "metadata": {},
   "outputs": [],
   "source": [
    "fig, ax1 = plt.subplots(figsize=(8,15))\n",
    "xgb.plot_importance(model, ax=ax1)"
   ]
  }
 ],
 "metadata": {
  "interpreter": {
   "hash": "593f9eb1ab33939eaa535fb4b231456050a170ccc00037576030ca5c1656aa2a"
  },
  "kernelspec": {
   "display_name": "Python 3.7.11 ('test')",
   "language": "python",
   "name": "python3"
  },
  "language_info": {
   "codemirror_mode": {
    "name": "ipython",
    "version": 3
   },
   "file_extension": ".py",
   "mimetype": "text/x-python",
   "name": "python",
   "nbconvert_exporter": "python",
   "pygments_lexer": "ipython3",
   "version": "3.7.11"
  }
 },
 "nbformat": 4,
 "nbformat_minor": 5
}
