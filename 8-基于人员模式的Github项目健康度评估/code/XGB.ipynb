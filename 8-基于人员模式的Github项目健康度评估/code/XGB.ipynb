{
 "cells": [
  {
   "cell_type": "code",
   "execution_count": null,
   "metadata": {},
   "outputs": [],
   "source": [
    "import pandas as pd\n",
    "import numpy as np\n",
    "import xgboost as xgb\n",
    "from sklearn import metrics\n",
    "from sklearn.model_selection import train_test_split\n",
    "import matplotlib.pyplot as plt\n",
    "from sklearn.preprocessing import MinMaxScaler\n",
    "import seaborn as sns\n",
    "import plotly.express as px\n",
    "import plotly as py\n",
    "import plotly.graph_objs as go\n",
    "import plotly.figure_factory as ff"
   ]
  },
  {
   "cell_type": "code",
   "execution_count": null,
   "metadata": {},
   "outputs": [],
   "source": [
    "data=pd.read_csv('Paddle_2021_loc.csv')\n",
    "data=data[data['actor_login']!='paddle-bot[bot]'].fillna(0)\n",
    "def categorize(row):\n",
    "    return 1 if row['pull_merged']!=0 else 0\n",
    "data['contributer']=data.apply(lambda row:categorize(row),axis=1)"
   ]
  },
  {
   "cell_type": "code",
   "execution_count": null,
   "metadata": {},
   "outputs": [],
   "source": [
    "data1=pd.read_csv('Paddle_actors_17-21.csv')\n",
    "data1.head()"
   ]
  },
  {
   "cell_type": "code",
   "execution_count": null,
   "metadata": {},
   "outputs": [],
   "source": [
    "data1=data1.drop(columns=['Unnamed: 0','activity'])"
   ]
  },
  {
   "cell_type": "code",
   "execution_count": null,
   "metadata": {},
   "outputs": [],
   "source": [
    "data1.head()"
   ]
  },
  {
   "cell_type": "code",
   "execution_count": null,
   "metadata": {},
   "outputs": [],
   "source": [
    "data1=data1.drop(columns=['month'])"
   ]
  },
  {
   "cell_type": "code",
   "execution_count": null,
   "metadata": {},
   "outputs": [],
   "source": [
    "data1.hist(bins=30, figsize=(20,15),color='#A50021')"
   ]
  },
  {
   "cell_type": "code",
   "execution_count": null,
   "metadata": {},
   "outputs": [],
   "source": [
    "sns.displot(data1['contributor_num'],kde=True,bins=30,rug=True,color='#A50021')"
   ]
  },
  {
   "cell_type": "code",
   "execution_count": null,
   "metadata": {},
   "outputs": [],
   "source": [
    "sns.displot(data1['actor_num'],kde=True,bins=30,rug=True,color='#A50021')"
   ]
  },
  {
   "cell_type": "code",
   "execution_count": null,
   "metadata": {},
   "outputs": [],
   "source": [
    "hist_data = [data1['contributor_num']]\n",
    "group_labels = ['distplot'] # name of the dataset\n",
    "\n",
    "fig = ff.create_distplot(hist_data, group_labels)\n",
    "\n",
    "fig.show()"
   ]
  },
  {
   "cell_type": "code",
   "execution_count": null,
   "metadata": {},
   "outputs": [],
   "source": [
    "fig=px.scatter(data1,y='contributor_num',x='open_issue',size='actor_num')\n",
    "fig.update_layout(showlegend=True)\n",
    "fig.show()"
   ]
  },
  {
   "cell_type": "code",
   "execution_count": null,
   "metadata": {},
   "outputs": [],
   "source": [
    "sns.jointplot(x=\"contributor_num\",y=\"actor_num\",data=data1,kind=\"hex\",color='#A50021',ratio=4,space=0,height=8,marginal_kws={'bins':10,'kde':True})"
   ]
  },
  {
   "cell_type": "code",
   "execution_count": null,
   "metadata": {},
   "outputs": [],
   "source": [
    "data2=data1\n",
    "sns.pairplot(data2)"
   ]
  },
  {
   "cell_type": "code",
   "execution_count": null,
   "metadata": {},
   "outputs": [],
   "source": [
    "data2.corr()"
   ]
  },
  {
   "cell_type": "code",
   "execution_count": null,
   "metadata": {},
   "outputs": [],
   "source": [
    "f,ax = plt.subplots(figsize=(15, 15))\n",
    "sns.heatmap(data2.corr(), annot=True, linecolor='white',linewidths=0.1,cmap=\"RdBu\", fmt= '.1f',ax=ax)"
   ]
  },
  {
   "cell_type": "code",
   "execution_count": null,
   "metadata": {},
   "outputs": [],
   "source": [
    "data1['Centralization']=data1['contributor_num']/data1['actor_num']\n",
    "data1.head(10)"
   ]
  },
  {
   "cell_type": "code",
   "execution_count": null,
   "metadata": {},
   "outputs": [],
   "source": [
    "X1=data1.drop(columns=['actor_num','contributor_num','Centralization'])\n",
    "y1=data1['Centralization']"
   ]
  },
  {
   "cell_type": "code",
   "execution_count": null,
   "metadata": {},
   "outputs": [],
   "source": [
    "y1"
   ]
  },
  {
   "cell_type": "code",
   "execution_count": null,
   "metadata": {},
   "outputs": [],
   "source": [
    "x1_train,x1_test,y1_train,y1_test = train_test_split(X1,y1,test_size=0.2)\n",
    "\n",
    "model1=xgb.XGBRegressor(max_depth=15,learning_rate= 0.1,subsample=0.5)\n",
    "model1.fit(x1_train,y1_train)"
   ]
  },
  {
   "cell_type": "code",
   "execution_count": null,
   "metadata": {},
   "outputs": [],
   "source": [
    "y1_pred=model1.predict(x1_test)\n",
    "y1_pred"
   ]
  },
  {
   "cell_type": "code",
   "execution_count": null,
   "metadata": {},
   "outputs": [],
   "source": [
    "y1_test"
   ]
  },
  {
   "cell_type": "code",
   "execution_count": 172,
   "metadata": {},
   "outputs": [
    {
     "data": {
      "text/plain": [
       "0.005584051285284322"
      ]
     },
     "execution_count": 172,
     "metadata": {},
     "output_type": "execute_result"
    }
   ],
   "source": [
    "abs_error=metrics.mean_absolute_error(y1_pred,y1_test)\n",
    "abs_error"
   ]
  },
  {
   "cell_type": "code",
   "execution_count": 173,
   "metadata": {},
   "outputs": [
    {
     "data": {
      "text/plain": [
       "0.010257772374569311"
      ]
     },
     "execution_count": 173,
     "metadata": {},
     "output_type": "execute_result"
    }
   ],
   "source": [
    "RMSE=np.sqrt(metrics.mean_squared_error(y1_test,y1_pred))\n",
    "RMSE"
   ]
  },
  {
   "cell_type": "code",
   "execution_count": 174,
   "metadata": {},
   "outputs": [
    {
     "data": {
      "text/plain": [
       "0.9691887530554696"
      ]
     },
     "execution_count": 174,
     "metadata": {},
     "output_type": "execute_result"
    }
   ],
   "source": [
    "from sklearn.metrics import explained_variance_score,r2_score\n",
    "explained_variance_score(y1_test,y1_pred)\n"
   ]
  },
  {
   "cell_type": "code",
   "execution_count": null,
   "metadata": {},
   "outputs": [],
   "source": [
    "fig, ax1 = plt.subplots(figsize=(8,5))\n",
    "xgb.plot_importance(model1, ax=ax1)"
   ]
  },
  {
   "cell_type": "markdown",
   "metadata": {},
   "source": [
    "##### PaddlePaddle/Models"
   ]
  },
  {
   "cell_type": "code",
   "execution_count": null,
   "metadata": {},
   "outputs": [],
   "source": [
    "paddleModel=pd.read_csv('PaddleModels_17-21.csv')\n",
    "antDesign=pd.read_csv('ant-design.csv')\n",
    "echarts=pd.read_csv('apache_echarts.csv')\n",
    "apollo=pd.read_csv('ApolloAuto.csv')\n",
    "NervJS=pd.read_csv('NervJS_taro.csv')\n",
    "tvm=pd.read_csv('apache_tvm.csv')"
   ]
  },
  {
   "cell_type": "code",
   "execution_count": null,
   "metadata": {},
   "outputs": [],
   "source": [
    "paddleModel.drop(columns=['Unnamed: 0','month','activity'],inplace=True)\n",
    "antDesign.drop(columns=['Unnamed: 0','month','activity'],inplace=True)\n",
    "echarts.drop(columns=['Unnamed: 0','month','activity'],inplace=True)\n",
    "apollo.drop(columns=['Unnamed: 0','month','activity'],inplace=True)\n",
    "NervJS.drop(columns=['Unnamed: 0','month','activity'],inplace=True)\n",
    "tvm.drop(columns=['Unnamed: 0','month','activity'],inplace=True)"
   ]
  },
  {
   "cell_type": "code",
   "execution_count": null,
   "metadata": {},
   "outputs": [],
   "source": [
    "data2=data2.drop(columns=['Centralization'])\n",
    "Data=pd.concat([data2,paddleModel,antDesign,echarts,apollo,NervJS,tvm])\n",
    "Data"
   ]
  },
  {
   "cell_type": "code",
   "execution_count": null,
   "metadata": {},
   "outputs": [],
   "source": [
    "Data['Centralization']=Data['contributor_num']/Data['actor_num']\n",
    "Data.head(10)"
   ]
  },
  {
   "cell_type": "code",
   "execution_count": 175,
   "metadata": {},
   "outputs": [
    {
     "data": {
      "text/plain": [
       "XGBRegressor(base_score=0.5, booster='gbtree', colsample_bylevel=1,\n",
       "             colsample_bynode=1, colsample_bytree=1, gamma=0, gpu_id=-1,\n",
       "             importance_type='gain', interaction_constraints='',\n",
       "             learning_rate=0.1, max_delta_step=0, max_depth=15,\n",
       "             min_child_weight=1, missing=nan, monotone_constraints='()',\n",
       "             n_estimators=100, n_jobs=16, num_parallel_tree=1, random_state=0,\n",
       "             reg_alpha=0, reg_lambda=1, scale_pos_weight=1, subsample=0.5,\n",
       "             tree_method='exact', validate_parameters=1, verbosity=None)"
      ]
     },
     "execution_count": 175,
     "metadata": {},
     "output_type": "execute_result"
    }
   ],
   "source": [
    "X2=Data.drop(columns=['actor_num','contributor_num'])\n",
    "y2=Data['Centralization']\n",
    "\n",
    "x2_train,x2_test,y2_train,y2_test = train_test_split(X2,y2,test_size=0.2)\n",
    "\n",
    "model2=xgb.XGBRegressor(max_depth=15,learning_rate= 0.1,subsample=0.5)\n",
    "model2.fit(x2_train,y2_train)"
   ]
  },
  {
   "cell_type": "code",
   "execution_count": 176,
   "metadata": {},
   "outputs": [],
   "source": [
    "y2_pred=model2.predict(x2_test)"
   ]
  },
  {
   "cell_type": "code",
   "execution_count": 177,
   "metadata": {},
   "outputs": [
    {
     "data": {
      "text/plain": [
       "0.0015791919422017636"
      ]
     },
     "execution_count": 177,
     "metadata": {},
     "output_type": "execute_result"
    }
   ],
   "source": [
    "abs_error=metrics.mean_absolute_error(y2_pred,y2_test)\n",
    "abs_error"
   ]
  },
  {
   "cell_type": "code",
   "execution_count": 178,
   "metadata": {},
   "outputs": [
    {
     "data": {
      "text/plain": [
       "0.039739048078706714"
      ]
     },
     "execution_count": 178,
     "metadata": {},
     "output_type": "execute_result"
    }
   ],
   "source": [
    "RMSE=np.sqrt(metrics.mean_absolute_error(y2_test,y2_pred))\n",
    "RMSE"
   ]
  },
  {
   "cell_type": "code",
   "execution_count": 179,
   "metadata": {},
   "outputs": [
    {
     "data": {
      "text/plain": [
       "0.9993514673762636"
      ]
     },
     "execution_count": 179,
     "metadata": {},
     "output_type": "execute_result"
    }
   ],
   "source": [
    "explained_variance_score(y2_test,y2_pred)"
   ]
  },
  {
   "cell_type": "code",
   "execution_count": null,
   "metadata": {},
   "outputs": [],
   "source": [
    "score=[]\n",
    "for Max_depth in range(1,31):\n",
    "    model2=xgb.XGBRegressor(max_depth=Max_depth, gamma=0.3, learning_rate= 0.2)\n",
    "    model2.fit(x2_train,y2_train)\n",
    "    y2_pred=model2.predict(x2_test)\n",
    "    score.append(explained_variance_score(y2_test,y2_pred))\n",
    "\n",
    "s=max(score)\n",
    "j=score.index(s)\n",
    "print(s)\n",
    "print(j)"
   ]
  },
  {
   "cell_type": "code",
   "execution_count": null,
   "metadata": {},
   "outputs": [],
   "source": [
    "score=[]\n",
    "for i in range(1,11):\n",
    "    model2=xgb.XGBRegressor(max_depth=6,min_child_weight=i, gamma=0.3, learning_rate= 0.2)\n",
    "    model2.fit(x2_train,y2_train)\n",
    "    y2_pred=model2.predict(x2_test)\n",
    "    score.append(explained_variance_score(y2_test,y2_pred))\n",
    "\n",
    "s=max(score)\n",
    "j=score.index(s)\n",
    "print(s)\n",
    "print(j)"
   ]
  },
  {
   "cell_type": "code",
   "execution_count": null,
   "metadata": {},
   "outputs": [],
   "source": [
    "score=[]\n",
    "for gamma in np.arange(0,1,0.1):\n",
    "    model2=xgb.XGBRegressor(max_depth=6,min_child_weight=1, gamma=gamma, learning_rate= 0.2)\n",
    "    model2.fit(x2_train,y2_train)\n",
    "    y2_pred=model2.predict(x2_test)\n",
    "    score.append(explained_variance_score(y2_test,y2_pred))\n",
    "\n",
    "s=max(score)\n",
    "j=score.index(s)\n",
    "print(s)\n",
    "print(j)"
   ]
  },
  {
   "cell_type": "code",
   "execution_count": null,
   "metadata": {},
   "outputs": [],
   "source": [
    "score"
   ]
  },
  {
   "cell_type": "code",
   "execution_count": null,
   "metadata": {},
   "outputs": [],
   "source": [
    "score=[]\n",
    "for learning_rate in np.arange(0,0.5,0.01):\n",
    "    model2=xgb.XGBRegressor(max_depth=6,min_child_weight=1, gamma=0, learning_rate=learning_rate)\n",
    "    model2.fit(x2_train,y2_train)\n",
    "    y2_pred=model2.predict(x2_test)\n",
    "    score.append(explained_variance_score(y2_test,y2_pred))\n",
    "\n",
    "s=max(score)\n",
    "j=score.index(s)\n",
    "print(s)\n",
    "print(j)"
   ]
  },
  {
   "cell_type": "code",
   "execution_count": null,
   "metadata": {},
   "outputs": [],
   "source": [
    "score=[]\n",
    "for alpha in np.arange(0,0.1,0.01):\n",
    "    model2=xgb.XGBRegressor(max_depth=6,min_child_weight=1, gamma=0, learning_rate=0.06,reg_alpha=alpha)\n",
    "    model2.fit(x2_train,y2_train)\n",
    "    y2_pred=model2.predict(x2_test)\n",
    "    score.append(explained_variance_score(y2_test,y2_pred))\n",
    "\n",
    "s=max(score)\n",
    "j=score.index(s)\n",
    "print(s)\n",
    "print(j)"
   ]
  },
  {
   "cell_type": "code",
   "execution_count": null,
   "metadata": {},
   "outputs": [],
   "source": [
    "score=[]\n",
    "for reg_lambda in np.arange(0,1,0.1):\n",
    "    model2=xgb.XGBRegressor(max_depth=6,min_child_weight=1, gamma=0, learning_rate=0.06,reg_alpha=0,reg_lambda=reg_lambda)\n",
    "    model2.fit(x2_train,y2_train)\n",
    "    y2_pred=model2.predict(x2_test)\n",
    "    score.append(explained_variance_score(y2_test,y2_pred))\n",
    "\n",
    "s=max(score)\n",
    "j=score.index(s)\n",
    "print(s)\n",
    "print(j)"
   ]
  },
  {
   "cell_type": "code",
   "execution_count": null,
   "metadata": {},
   "outputs": [],
   "source": [
    "score=[]\n",
    "for subsample in np.arange(0.5,1,0.1):\n",
    "    model2=xgb.XGBRegressor(max_depth=6,min_child_weight=1, gamma=0, learning_rate=0.06,reg_alpha=0,reg_lambda=1,subsample=subsample)\n",
    "    model2.fit(x2_train,y2_train)\n",
    "    y2_pred=model2.predict(x2_test)\n",
    "    score.append(explained_variance_score(y2_test,y2_pred))\n",
    "\n",
    "s=max(score)\n",
    "j=score.index(s)\n",
    "print(s)\n",
    "print(j)"
   ]
  },
  {
   "cell_type": "code",
   "execution_count": null,
   "metadata": {},
   "outputs": [],
   "source": [
    "score=[]\n",
    "for n in np.arange(50,200,10):\n",
    "    model2=xgb.XGBRegressor(max_depth=6,min_child_weight=1, gamma=0, learning_rate=0.06,reg_alpha=0,reg_lambda=1,subsample=0.9,n_estimators=n)\n",
    "    model2.fit(x2_train,y2_train)\n",
    "    y2_pred=model2.predict(x2_test)\n",
    "    score.append(explained_variance_score(y2_test,y2_pred))\n",
    "\n",
    "s=max(score)\n",
    "j=score.index(s)\n",
    "print(s)\n",
    "print(j)"
   ]
  }
 ],
 "metadata": {
  "interpreter": {
   "hash": "d677a3fc31c3ae9c546016a38c43e731f711388a4891412c2e3246cfa178ed6c"
  },
  "kernelspec": {
   "display_name": "Python 3.7.11 ('test2')",
   "language": "python",
   "name": "python3"
  },
  "language_info": {
   "codemirror_mode": {
    "name": "ipython",
    "version": 3
   },
   "file_extension": ".py",
   "mimetype": "text/x-python",
   "name": "python",
   "nbconvert_exporter": "python",
   "pygments_lexer": "ipython3",
   "version": "3.7.11"
  },
  "orig_nbformat": 4
 },
 "nbformat": 4,
 "nbformat_minor": 2
}
