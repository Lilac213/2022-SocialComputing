{
 "cells": [
  {
   "cell_type": "code",
   "execution_count": 3,
   "metadata": {},
   "outputs": [],
   "source": [
    "import pandas as pd\n",
    "import matplotlib.pyplot as plt\n",
    "from sklearn.cluster import SpectralClustering\n",
    "from sklearn.preprocessing import StandardScaler, normalize\n",
    "from sklearn.decomposition import PCA\n",
    "from sklearn.metrics import silhouette_score"
   ]
  },
  {
   "cell_type": "code",
   "execution_count": 2,
   "metadata": {},
   "outputs": [
    {
     "data": {
      "text/html": [
       "<div>\n",
       "<style scoped>\n",
       "    .dataframe tbody tr th:only-of-type {\n",
       "        vertical-align: middle;\n",
       "    }\n",
       "\n",
       "    .dataframe tbody tr th {\n",
       "        vertical-align: top;\n",
       "    }\n",
       "\n",
       "    .dataframe thead th {\n",
       "        text-align: right;\n",
       "    }\n",
       "</style>\n",
       "<table border=\"1\" class=\"dataframe\">\n",
       "  <thead>\n",
       "    <tr style=\"text-align: right;\">\n",
       "      <th></th>\n",
       "      <th>issuecomment</th>\n",
       "      <th>openissue</th>\n",
       "      <th>openPR</th>\n",
       "      <th>reviewcomment</th>\n",
       "      <th>mergePR</th>\n",
       "    </tr>\n",
       "  </thead>\n",
       "  <tbody>\n",
       "    <tr>\n",
       "      <th>0</th>\n",
       "      <td>1.0</td>\n",
       "      <td>0.0</td>\n",
       "      <td>1.0</td>\n",
       "      <td>14.0</td>\n",
       "      <td>0.0</td>\n",
       "    </tr>\n",
       "    <tr>\n",
       "      <th>1</th>\n",
       "      <td>1.0</td>\n",
       "      <td>0.0</td>\n",
       "      <td>0.0</td>\n",
       "      <td>0.0</td>\n",
       "      <td>0.0</td>\n",
       "    </tr>\n",
       "    <tr>\n",
       "      <th>2</th>\n",
       "      <td>4.0</td>\n",
       "      <td>0.0</td>\n",
       "      <td>0.0</td>\n",
       "      <td>10.0</td>\n",
       "      <td>0.0</td>\n",
       "    </tr>\n",
       "    <tr>\n",
       "      <th>3</th>\n",
       "      <td>3.0</td>\n",
       "      <td>1.0</td>\n",
       "      <td>0.0</td>\n",
       "      <td>0.0</td>\n",
       "      <td>0.0</td>\n",
       "    </tr>\n",
       "    <tr>\n",
       "      <th>4</th>\n",
       "      <td>0.0</td>\n",
       "      <td>0.0</td>\n",
       "      <td>0.0</td>\n",
       "      <td>3.0</td>\n",
       "      <td>0.0</td>\n",
       "    </tr>\n",
       "  </tbody>\n",
       "</table>\n",
       "</div>"
      ],
      "text/plain": [
       "   issuecomment  openissue  openPR  reviewcomment  mergePR\n",
       "0           1.0        0.0     1.0           14.0      0.0\n",
       "1           1.0        0.0     0.0            0.0      0.0\n",
       "2           4.0        0.0     0.0           10.0      0.0\n",
       "3           3.0        1.0     0.0            0.0      0.0\n",
       "4           0.0        0.0     0.0            3.0      0.0"
      ]
     },
     "execution_count": 2,
     "metadata": {},
     "output_type": "execute_result"
    }
   ],
   "source": [
    "X = pd.read_csv('puredata.csv') \n",
    "X = X.drop('actor_id', axis = 1) \n",
    "X = X.drop(columns =['Unnamed: 0'])\n",
    "# 处理丢失的值\n",
    "# X.fillna(method ='ffill', inplace = True) \n",
    "X.head() "
   ]
  },
  {
   "cell_type": "code",
   "execution_count": 8,
   "metadata": {},
   "outputs": [
    {
     "data": {
      "text/html": [
       "<div>\n",
       "<style scoped>\n",
       "    .dataframe tbody tr th:only-of-type {\n",
       "        vertical-align: middle;\n",
       "    }\n",
       "\n",
       "    .dataframe tbody tr th {\n",
       "        vertical-align: top;\n",
       "    }\n",
       "\n",
       "    .dataframe thead th {\n",
       "        text-align: right;\n",
       "    }\n",
       "</style>\n",
       "<table border=\"1\" class=\"dataframe\">\n",
       "  <thead>\n",
       "    <tr style=\"text-align: right;\">\n",
       "      <th></th>\n",
       "      <th>P1</th>\n",
       "      <th>P2</th>\n",
       "    </tr>\n",
       "  </thead>\n",
       "  <tbody>\n",
       "    <tr>\n",
       "      <th>0</th>\n",
       "      <td>0.516743</td>\n",
       "      <td>-0.236504</td>\n",
       "    </tr>\n",
       "    <tr>\n",
       "      <th>1</th>\n",
       "      <td>-0.330791</td>\n",
       "      <td>-0.310956</td>\n",
       "    </tr>\n",
       "    <tr>\n",
       "      <th>2</th>\n",
       "      <td>0.164206</td>\n",
       "      <td>-0.268682</td>\n",
       "    </tr>\n",
       "    <tr>\n",
       "      <th>3</th>\n",
       "      <td>-0.337569</td>\n",
       "      <td>0.441240</td>\n",
       "    </tr>\n",
       "    <tr>\n",
       "      <th>4</th>\n",
       "      <td>-0.269721</td>\n",
       "      <td>-0.346775</td>\n",
       "    </tr>\n",
       "  </tbody>\n",
       "</table>\n",
       "</div>"
      ],
      "text/plain": [
       "         P1        P2\n",
       "0  0.516743 -0.236504\n",
       "1 -0.330791 -0.310956\n",
       "2  0.164206 -0.268682\n",
       "3 -0.337569  0.441240\n",
       "4 -0.269721 -0.346775"
      ]
     },
     "execution_count": 8,
     "metadata": {},
     "output_type": "execute_result"
    }
   ],
   "source": [
    "# 预处理数据，使数据可视化\n",
    "# 数据比例伸缩\n",
    "scaler = StandardScaler() \n",
    "X_scaled = scaler.fit_transform(X) \n",
    "\n",
    "# 规范化数据\n",
    "X_normalized = normalize(X_scaled) \n",
    "\n",
    "# 将numpy数组转换为pandas DataFrame \n",
    "X_normalized = pd.DataFrame(X_normalized) \n",
    "\n",
    "# 减少数据的纬度\n",
    "pca = PCA(n_components = 3) \n",
    "X_principal = pca.fit_transform(X_normalized) \n",
    "X_principal = pd.DataFrame(X_principal) \n",
    "X_principal.columns = ['P1', 'P2'] \n",
    "X_principal.head() "
   ]
  },
  {
   "cell_type": "code",
   "execution_count": 9,
   "metadata": {},
   "outputs": [
    {
     "data": {
      "image/png": "[encoded data removed]",
      "text/plain": [
       "<Figure size 432x288 with 1 Axes>"
      ]
     },
     "metadata": {
      "needs_background": "light"
     },
     "output_type": "display_data"
    },
    {
     "data": {
      "image/png": "[encoded data removed]",
      "text/plain": [
       "<Figure size 648x648 with 1 Axes>"
      ]
     },
     "metadata": {
      "needs_background": "light"
     },
     "output_type": "display_data"
    }
   ],
   "source": [
    "# 构建聚类模型 \n",
    "spectral_model_rbf = SpectralClustering(n_clusters = 2, affinity ='rbf') \n",
    "\n",
    "# 训练模型并存储预测的聚类标签\n",
    "labels_rbf = spectral_model_rbf.fit_predict(X_principal) \n",
    "# filter_none\n",
    "# brightness_4\n",
    "\n",
    "# 建立标签到颜色的映射\n",
    "colours = {} \n",
    "colours[0] = 'b'\n",
    "colours[1] = 'y'\n",
    "\n",
    "# 为每个数据点构建颜色向量\n",
    "cvec = [colours[label] for label in labels_rbf] \n",
    "\n",
    "# 绘制聚类散点图\n",
    "b = plt.scatter(X_principal['P1'], X_principal['P2'], color ='b'); \n",
    "y = plt.scatter(X_principal['P1'], X_principal['P2'], color ='y'); \n",
    "plt.figure(figsize =(9, 9)) \n",
    "plt.scatter(X_principal['P1'], X_principal['P2'], c = cvec) \n",
    "plt.legend((b, y), ('Label 0', 'Label 1')) \n",
    "plt.show() "
   ]
  },
  {
   "cell_type": "code",
   "execution_count": 20,
   "metadata": {},
   "outputs": [
    {
     "data": {
      "text/html": [
       "<div>\n",
       "<style scoped>\n",
       "    .dataframe tbody tr th:only-of-type {\n",
       "        vertical-align: middle;\n",
       "    }\n",
       "\n",
       "    .dataframe tbody tr th {\n",
       "        vertical-align: top;\n",
       "    }\n",
       "\n",
       "    .dataframe thead th {\n",
       "        text-align: right;\n",
       "    }\n",
       "</style>\n",
       "<table border=\"1\" class=\"dataframe\">\n",
       "  <thead>\n",
       "    <tr style=\"text-align: right;\">\n",
       "      <th></th>\n",
       "      <th>actor_id</th>\n",
       "      <th>issuecomment</th>\n",
       "      <th>openissue</th>\n",
       "      <th>openPR</th>\n",
       "      <th>reviewcomment</th>\n",
       "      <th>mergePR</th>\n",
       "      <th>label</th>\n",
       "    </tr>\n",
       "  </thead>\n",
       "  <tbody>\n",
       "    <tr>\n",
       "      <th>0</th>\n",
       "      <td>29231</td>\n",
       "      <td>1.0</td>\n",
       "      <td>0.0</td>\n",
       "      <td>1.0</td>\n",
       "      <td>14.0</td>\n",
       "      <td>0.0</td>\n",
       "      <td>0</td>\n",
       "    </tr>\n",
       "    <tr>\n",
       "      <th>1</th>\n",
       "      <td>64772</td>\n",
       "      <td>1.0</td>\n",
       "      <td>0.0</td>\n",
       "      <td>0.0</td>\n",
       "      <td>0.0</td>\n",
       "      <td>0.0</td>\n",
       "      <td>0</td>\n",
       "    </tr>\n",
       "    <tr>\n",
       "      <th>2</th>\n",
       "      <td>328693</td>\n",
       "      <td>4.0</td>\n",
       "      <td>0.0</td>\n",
       "      <td>0.0</td>\n",
       "      <td>10.0</td>\n",
       "      <td>0.0</td>\n",
       "      <td>0</td>\n",
       "    </tr>\n",
       "    <tr>\n",
       "      <th>3</th>\n",
       "      <td>548443</td>\n",
       "      <td>3.0</td>\n",
       "      <td>1.0</td>\n",
       "      <td>0.0</td>\n",
       "      <td>0.0</td>\n",
       "      <td>0.0</td>\n",
       "      <td>0</td>\n",
       "    </tr>\n",
       "    <tr>\n",
       "      <th>4</th>\n",
       "      <td>552990</td>\n",
       "      <td>0.0</td>\n",
       "      <td>0.0</td>\n",
       "      <td>0.0</td>\n",
       "      <td>3.0</td>\n",
       "      <td>0.0</td>\n",
       "      <td>0</td>\n",
       "    </tr>\n",
       "  </tbody>\n",
       "</table>\n",
       "</div>"
      ],
      "text/plain": [
       "   actor_id  issuecomment  openissue  openPR  reviewcomment  mergePR  label\n",
       "0     29231           1.0        0.0     1.0           14.0      0.0      0\n",
       "1     64772           1.0        0.0     0.0            0.0      0.0      0\n",
       "2    328693           4.0        0.0     0.0           10.0      0.0      0\n",
       "3    548443           3.0        1.0     0.0            0.0      0.0      0\n",
       "4    552990           0.0        0.0     0.0            3.0      0.0      0"
      ]
     },
     "execution_count": 20,
     "metadata": {},
     "output_type": "execute_result"
    }
   ],
   "source": [
    "data  = pd.read_csv('puredata.csv')\n",
    "data = data.drop(columns =['Unnamed: 0'])\n",
    "data.insert(data.shape[1], 'label', labels_rbf)\n",
    "data.head()"
   ]
  },
  {
   "cell_type": "code",
   "execution_count": null,
   "metadata": {},
   "outputs": [],
   "source": [
    "# 构建聚类模型\n",
    "spectral_model_nn = SpectralClustering(n_clusters = 2, affinity ='nearest_neighbors') \n",
    "# 训练模型并存储预测的聚类标签 \n",
    "labels_nn = spectral_model_nn.fit_predict(X_principal)\n",
    "\n",
    "# 建立标签到颜色的映射\n",
    "colours = {} \n",
    "colours[0] = 'b'\n",
    "colours[1] = 'y'\n",
    "\n",
    "# 为每个数据点构建颜色向量\n",
    "cvec = [colours[label] for label in labels_rbf] \n",
    "\n",
    "# 绘制聚类散点图\n",
    "b = plt.scatter(X_principal['P1'], X_principal['P2'], color ='b'); \n",
    "y = plt.scatter(X_principal['P1'], X_principal['P2'], color ='y'); \n",
    "plt.figure(figsize =(9, 9)) \n",
    "plt.scatter(X_principal['P1'], X_principal['P2'], c = cvec) \n",
    "plt.legend((b, y), ('Label 0', 'Label 1')) \n",
    "plt.show() "
   ]
  },
  {
   "cell_type": "code",
   "execution_count": null,
   "metadata": {},
   "outputs": [],
   "source": [
    "data.to_csv('labeldata.csv')"
   ]
  },
  {
   "cell_type": "code",
   "execution_count": 11,
   "metadata": {},
   "outputs": [
    {
     "name": "stdout",
     "output_type": "stream",
     "text": [
      "[0.6161928306606338, -0.31368437353557815]\n"
     ]
    }
   ],
   "source": [
    "# 工作性能评估 轮廓系数\n",
    "s_scores = silhouette_score(X, labels_rbf)\n",
    "# s_scores.append(silhouette_score(X, labels_nn)) \n",
    "print(s_scores) "
   ]
  },
  {
   "cell_type": "code",
   "execution_count": 11,
   "metadata": {},
   "outputs": [
    {
     "data": {
      "image/png": "[encoded data removed]",
      "text/plain": [
       "<Figure size 432x288 with 1 Axes>"
      ]
     },
     "metadata": {
      "needs_background": "light"
     },
     "output_type": "display_data"
    }
   ],
   "source": [
    "# 绘制条形图来比较模型\n",
    "models = ['2','3','4']\n",
    "s_scores = [0.7161928306606338,0.5961928306606338, 0.51368437353557815]\n",
    "plt.bar(models, s_scores) \n",
    "#labels为图例的文字标注，loc为图例放置的位置\n",
    "plt.xlabel('n_clusters')\n",
    "plt.ylabel('Silhouette Score') \n",
    "plt.title('Comparison of different n_clusters') \n",
    "plt.show() "
   ]
  },
  {
   "cell_type": "code",
   "execution_count": null,
   "metadata": {},
   "outputs": [],
   "source": [
    "import pandas as pd\n",
    "import numpy as np\n",
    "from math import ceil\n",
    "import matplotlib\n",
    "import matplotlib.pyplot as plt\n",
    "from scipy import vectorize\n",
    "from sklearn.linear_model import LinearRegression\n",
    "matplotlib.rcParams['font.sans-serif'] = ['SimHei']\n",
    "matplotlib.rcParams['axes.unicode_minus'] = False"
   ]
  },
  {
   "cell_type": "code",
   "execution_count": null,
   "metadata": {},
   "outputs": [],
   "source": [
    "# 设置权重\n",
    "# 代码贡献\n",
    "MERGEPULL_WEIGHT = 5 #mpc\n",
    "OPENPULL_WEIGHT = 3 #opc\n",
    "PULLREVIEWCOMMENT_WEIGHT = 4 #rcc\n",
    "# 参与&讨论\n",
    "OPENISSUE_WEIGHT = 2 #oic\n",
    "ISSUECOMMENT_WEIGHT = 1 #icc"
   ]
  },
  {
   "cell_type": "code",
   "execution_count": null,
   "metadata": {},
   "outputs": [],
   "source": [
    "df2 = pd.read_csv('labeldata.csv')\n",
    "df2 = df2.drop(columns =['Unnamed: 0'])\n",
    "df3 = df2.drop(index=[106,170,132],axis=0)\n",
    "table = df3.sort_values(by=['code_contribution_score'])\n",
    "table.tail()"
   ]
  },
  {
   "cell_type": "code",
   "execution_count": null,
   "metadata": {},
   "outputs": [],
   "source": [
    "#按权值计算代码贡献与参与贡献\n",
    "def get_code_contribution_score(series):\n",
    "    MERGEPULL = series['mergePR'] * MERGEPULL_WEIGHT\n",
    "    OPENPULL = series['openPR'] * OPENPULL_WEIGHT\n",
    "    PULLREVIEWCOMMENT = series['reviewcomment'] * PULLREVIEWCOMMENT_WEIGHT\n",
    "    code_contribution_score = MERGEPULL+OPENPULL+PULLREVIEWCOMMENT\n",
    "    return code_contribution_score\n",
    "\n",
    "def get_participation_score(series):\n",
    "    OPENISSUE = series['openissue'] * OPENISSUE_WEIGHT\n",
    "    ISSUECOMMENT = series['issuecomment'] * ISSUECOMMENT_WEIGHT\n",
    "    participation_score = OPENISSUE + ISSUECOMMENT\n",
    "    return participation_score"
   ]
  },
  {
   "cell_type": "code",
   "execution_count": null,
   "metadata": {},
   "outputs": [],
   "source": [
    "def draw(df2):\n",
    "    #画图\n",
    "    x = df2['code_contribution_score'].tolist()\n",
    "    y = df2['participation_score'].tolist()\n",
    "\n",
    "    # #拟合直线\n",
    "    # lr = LinearRegression()\n",
    "    # lr.fit(np.array(x).reshape(-1,1),y)\n",
    "    # x1 = np.array(x).reshape(-1,1)\n",
    "    # y1 = lr.predict(x1)\n",
    "    # y1 = vectorize(lambda x:ceil(x))(y1)\n",
    "    colours = {} \n",
    "    colours[0] = 'b'\n",
    "    colours[1] = 'r'\n",
    "    # 为每个数据点构建颜色向量\n",
    "    cvec = [colours[label] for label in df2['label']] \n",
    "\n",
    "    #先画散点图\n",
    "    plt.figure()\n",
    "    plt.xlabel('code_contribution_score')\n",
    "    plt.ylabel('participation_score')\n",
    "    plt.title('人员分类 2021_7-2021_10')\n",
    "\n",
    "    plt.scatter(x, y, marker='.', c = cvec)\n",
    "    #plt.savefig('result_v2.jpg')\n",
    "    plt.show()\n",
    "draw(df3)\n"
   ]
  }
 ],
 "metadata": {
  "interpreter": {
   "hash": "ae7890921ac3c17143ff000ac7152addc6614e2051824da39aa37dab63d26d82"
  },
  "kernelspec": {
   "display_name": "Python 3.8.8 ('base')",
   "language": "python",
   "name": "python3"
  },
  "language_info": {
   "codemirror_mode": {
    "name": "ipython",
    "version": 3
   },
   "file_extension": ".py",
   "mimetype": "text/x-python",
   "name": "python",
   "nbconvert_exporter": "python",
   "pygments_lexer": "ipython3",
   "version": "3.8.8"
  },
  "orig_nbformat": 4
 },
 "nbformat": 4,
 "nbformat_minor": 2
}
