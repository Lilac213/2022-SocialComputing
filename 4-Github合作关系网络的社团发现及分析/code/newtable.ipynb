{
 "cells": [
  {
   "cell_type": "code",
   "execution_count": 1,
   "metadata": {},
   "outputs": [],
   "source": [
    "from select import select\n",
    "from odps import ODPS\n",
    "from odps import options\n",
    "from odps.df import DataFrame\n",
    "import pandas as pd\n",
    "import numpy as np"
   ]
  },
  {
   "cell_type": "code",
   "execution_count": 2,
   "metadata": {},
   "outputs": [],
   "source": [
    "ACCESS_ID = 'LTAI5tHDArybZRnXaPS3pdkJ'\n",
    "SECRET_ACCESS_KEY = 'lXXLM2U1dB3ExgKquGUwdGb88WHqkN'\n",
    "ODPS_PROJECT = 'OpenDigger_prod_dev'\n",
    "ODPS_ENDPOINT = 'http://service.cn-shanghai.maxcompute.aliyun.com/api'"
   ]
  },
  {
   "cell_type": "code",
   "execution_count": 3,
   "metadata": {},
   "outputs": [],
   "source": [
    "o = ODPS(ACCESS_ID, SECRET_ACCESS_KEY,\n",
    "         project=ODPS_PROJECT, endpoint=ODPS_ENDPOINT)\n",
    "options.tunnel.limit_instance_tunnel = False"
   ]
  },
  {
   "cell_type": "code",
   "execution_count": 4,
   "metadata": {},
   "outputs": [],
   "source": [
    "delete_sql = \"DROP TABLE IF EXISTS temp_active_users_2021_1k;\"\n",
    "result = o.execute_sql(delete_sql)"
   ]
  },
  {
   "cell_type": "code",
   "execution_count": 4,
   "metadata": {},
   "outputs": [],
   "source": [
    "create_sql = \"CREATE TABLE IF NOT EXISTS temp_active_users_2021_1k ( actor_id bigint, record_num bigint);\""
   ]
  },
  {
   "cell_type": "code",
   "execution_count": 5,
   "metadata": {},
   "outputs": [],
   "source": [
    "result = o.execute_sql(create_sql, hints={'odps.sql.allow.fullscan': 'true'})"
   ]
  },
  {
   "cell_type": "code",
   "execution_count": 6,
   "metadata": {},
   "outputs": [],
   "source": [
    "insert_sql = \"insert into temp_active_users_2021_1k select actor_id as actor_id, count(*) as record_num from ods_github_log where pt>='20210101' and pt<'20220101' group by actor_id order by count(*) DESC limit 1000;\""
   ]
  },
  {
   "cell_type": "code",
   "execution_count": 7,
   "metadata": {},
   "outputs": [],
   "source": [
    "result = o.execute_sql(insert_sql, hints={'odps.sql.allow.fullscan': 'true'})\n",
    "# res_users = result.open_reader().to_pandas()"
   ]
  },
  {
   "cell_type": "code",
   "execution_count": 10,
   "metadata": {},
   "outputs": [],
   "source": [
    "result = o.execute_sql(\"select * from temp_active_users_2021_1k order by record_num limit 10\", hints={'odps.sql.allow.fullscan': 'true'})\n",
    "res_users = result.open_reader().to_pandas()"
   ]
  },
  {
   "cell_type": "code",
   "execution_count": 11,
   "metadata": {},
   "outputs": [
    {
     "name": "stdout",
     "output_type": "stream",
     "text": [
      "   actor_id  record_num\n",
      "0   4640101       25618\n",
      "1   2841734       25675\n",
      "2  12358972       25694\n",
      "3  16950305       25736\n",
      "4  39830572       25786\n",
      "5  84543114       25805\n",
      "6  27426792       25806\n",
      "7  43134606       25882\n",
      "8  77089745       25920\n",
      "9   1580956       25932\n"
     ]
    }
   ],
   "source": [
    "print(res_users)"
   ]
  },
  {
   "cell_type": "code",
   "execution_count": null,
   "metadata": {},
   "outputs": [],
   "source": []
  }
 ],
 "metadata": {
  "kernelspec": {
   "display_name": "Python 3",
   "language": "python",
   "name": "python3"
  },
  "language_info": {
   "codemirror_mode": {
    "name": "ipython",
    "version": 3
   },
   "file_extension": ".py",
   "mimetype": "text/x-python",
   "name": "python",
   "nbconvert_exporter": "python",
   "pygments_lexer": "ipython3",
   "version": "3.6.8"
  }
 },
 "nbformat": 4,
 "nbformat_minor": 4
}
