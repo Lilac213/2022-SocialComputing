{
 "cells": [
  {
   "cell_type": "markdown",
   "metadata": {},
   "source": [
    "### 选出活跃用户"
   ]
  },
  {
   "cell_type": "code",
   "execution_count": 1,
   "metadata": {},
   "outputs": [],
   "source": [
    "from select import select\n",
    "from odps import ODPS\n",
    "from odps import options\n",
    "from odps.df import DataFrame\n",
    "import pandas as pd\n",
    "import numpy as np"
   ]
  },
  {
   "cell_type": "code",
   "execution_count": 2,
   "metadata": {},
   "outputs": [],
   "source": [
    "ACCESS_ID = 'LTAI5tHDArybZRnXaPS3pdkJ'\n",
    "SECRET_ACCESS_KEY = 'lXXLM2U1dB3ExgKquGUwdGb88WHqkN'\n",
    "ODPS_PROJECT = 'OpenDigger_prod_dev'\n",
    "ODPS_ENDPOINT = 'http://service.cn-shanghai.maxcompute.aliyun.com/api'"
   ]
  },
  {
   "cell_type": "code",
   "execution_count": 3,
   "metadata": {},
   "outputs": [],
   "source": [
    "o = ODPS(ACCESS_ID, SECRET_ACCESS_KEY,\n",
    "         project=ODPS_PROJECT, endpoint=ODPS_ENDPOINT)\n",
    "options.tunnel.limit_instance_tunnel = False"
   ]
  },
  {
   "cell_type": "code",
   "execution_count": 4,
   "metadata": {},
   "outputs": [],
   "source": [
    "result = o.execute_sql(\"select actor_id, count(*) from ods_github_log where pt>='20210101' and pt<'20220101' group by actor_id order by count(*) DESC limit 10000;\",hints={'odps.sql.allow.fullscan': 'true'})\n",
    "res_users = result.open_reader().to_pandas()"
   ]
  },
  {
   "cell_type": "code",
   "execution_count": 7,
   "metadata": {},
   "outputs": [],
   "source": [
    "# res_users.to_csv('./res_users.csv',index=0)"
   ]
  },
  {
   "cell_type": "markdown",
   "metadata": {},
   "source": [
    "### 根据活跃用户找合作的人"
   ]
  },
  {
   "cell_type": "code",
   "execution_count": 10,
   "metadata": {},
   "outputs": [],
   "source": [
    "import time"
   ]
  },
  {
   "cell_type": "code",
   "execution_count": 5,
   "metadata": {},
   "outputs": [],
   "source": [
    "users = res_users[[\"actor_id\"]].values.reshape(10000).tolist()\n",
    "# print(users)"
   ]
  },
  {
   "cell_type": "code",
   "execution_count": null,
   "metadata": {},
   "outputs": [],
   "source": [
    "antusers = {}\n",
    "i = 0\n",
    "for user in users:\n",
    "    i += 1\n",
    "    antusers[user] = i\n",
    "print(antusers)"
   ]
  },
  {
   "cell_type": "code",
   "execution_count": 14,
   "metadata": {},
   "outputs": [
    {
     "name": "stdout",
     "output_type": "stream",
     "text": [
      "574281\n",
      "1648461333.5610251\n",
      "1648461385.648948\n",
      "     actor_id  _c1\n",
      "0        1090    3\n",
      "1        3856    1\n",
      "2       64669    1\n",
      "3       81942   12\n",
      "4      116184    3\n",
      "..        ...  ...\n",
      "184  81090657    1\n",
      "185  83625655    1\n",
      "186  86180257    2\n",
      "187  86299650    4\n",
      "188  92409154   10\n",
      "\n",
      "[189 rows x 2 columns]\n"
     ]
    }
   ],
   "source": [
    "for user in users:\n",
    "    user = users[4999]\n",
    "    s = str(user)\n",
    "    print(s)\n",
    "    print(time.time())\n",
    "    result = o.execute_sql(\"select first.actor_id, count(*) from ods_github_log first, ods_github_log second, (select actor_id from ods_github_log where pt>='20210101' and pt<'20220101' group by actor_id order by count(*) DESC limit 10000)as temp(Aid) where first.actor_id=temp.Aid and first.pt>='20210101' and first.pt<'20220101' and second.pt>='20210101' and second.pt<'20220101' and first.repo_id=second.repo_id and second.actor_id=\" + s + \" group by first.actor_id order by first.actor_id;\",hints={'odps.sql.allow.fullscan': 'true','odps.sql.validate.orderby.limit': 'false'})\n",
    "    print(time.time())\n",
    "    links = result.open_reader().to_pandas()\n",
    "    print(links)\n",
    "    break;"
   ]
  },
  {
   "cell_type": "code",
   "execution_count": null,
   "metadata": {},
   "outputs": [],
   "source": []
  }
 ],
 "metadata": {
  "kernelspec": {
   "display_name": "Python 3",
   "language": "python",
   "name": "python3"
  },
  "language_info": {
   "codemirror_mode": {
    "name": "ipython",
    "version": 3
   },
   "file_extension": ".py",
   "mimetype": "text/x-python",
   "name": "python",
   "nbconvert_exporter": "python",
   "pygments_lexer": "ipython3",
   "version": "3.6.8"
  }
 },
 "nbformat": 4,
 "nbformat_minor": 4
}
